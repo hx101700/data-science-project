{
 "cells": [
  {
   "cell_type": "markdown",
   "id": "6844807d",
   "metadata": {},
   "source": [
    "# COMMON TOOLS FOR DATA SCIENCE"
   ]
  },
  {
   "cell_type": "markdown",
   "id": "9c5e7d6a",
   "metadata": {},
   "source": [
    "# 环境准备"
   ]
  },
  {
   "cell_type": "code",
   "execution_count": 84,
   "id": "4b4092db",
   "metadata": {},
   "outputs": [],
   "source": [
    "import matplotlib.pyplot as plt\n",
    "\n",
    "# 设置中文字体\n",
    "# plt.rcParams['font.sans-serif'] = ['SimHei']  # 用来正常显示中文标签"
   ]
  },
  {
   "cell_type": "markdown",
   "id": "b36bd3bd",
   "metadata": {},
   "source": [
    "## 读取数据"
   ]
  },
  {
   "cell_type": "code",
   "execution_count": 85,
   "id": "d53b90e5",
   "metadata": {},
   "outputs": [
    {
     "name": "stdout",
     "output_type": "stream",
     "text": [
      "          Label           Deposit   SiO2  TiO2  Al2O3  TFe2O3   MnO   MgO  \\\n",
      "0  Au-rich PCDs  Oyu Tolgoi Cu-Au  65.37  0.60  17.98    5.39  0.12  1.53   \n",
      "1  Au-rich PCDs  Oyu Tolgoi Cu-Au  57.42  0.58  17.77    5.19  0.19  1.48   \n",
      "2  Au-rich PCDs  Oyu Tolgoi Cu-Au  63.10  0.33  16.61    3.78  0.08  0.73   \n",
      "3  Au-rich PCDs  Oyu Tolgoi Cu-Au  65.13  0.31  16.21    3.68  0.10  0.79   \n",
      "4  Au-rich PCDs  Oyu Tolgoi Cu-Au  64.38  0.35  17.36    3.74  0.04  0.82   \n",
      "\n",
      "    CaO  Na2O  ...    Dy    Ho    Er    Tm    Yb    Lu   Hf    Ta    Th     U  \n",
      "0  3.89  4.92  ...  3.35  0.63  1.93  0.27  2.00  0.32  3.0  0.40  2.63  1.54  \n",
      "1  4.52  5.48  ...  3.30  0.70  2.10  0.30  2.10  0.30  3.0  0.50  3.00  1.30  \n",
      "2  1.96  4.91  ...  1.91  0.40  1.26  0.21  1.54  0.28  2.4  0.34  2.81  1.71  \n",
      "3  1.97  4.99  ...  1.90  0.40  1.25  0.20  1.46  0.25  2.5  0.34  2.63  1.32  \n",
      "4  1.60  5.61  ...  2.07  0.43  1.32  0.22  1.59  0.28  2.4  0.30  2.38  1.54  \n",
      "\n",
      "[5 rows x 36 columns]\n",
      "Info: CSV 文件 ../executable/2025-Project-Data(ESM Table 1).csv 读取成功\n"
     ]
    }
   ],
   "source": [
    "from data_preprocessing.loader import load_data\n",
    "\n",
    "df, info = load_data(r'../executable/2025-Project-Data(ESM Table 1).csv')\n",
    "print(df.head())\n",
    "print(f\"Info: {info}\")"
   ]
  },
  {
   "cell_type": "markdown",
   "id": "a8e7d503",
   "metadata": {},
   "source": [
    "## 数据校验"
   ]
  },
  {
   "cell_type": "code",
   "execution_count": 86,
   "id": "13109464",
   "metadata": {},
   "outputs": [
    {
     "name": "stdout",
     "output_type": "stream",
     "text": [
      "Schema valid: True\n",
      "Error location: {}\n",
      "Info: 所有列 dtype 与预期一致\n"
     ]
    }
   ],
   "source": [
    "from data_preprocessing.validator import verify_dtype, handle_missing_values, flag_outliers\n",
    "\n",
    "valid, error_location, info = verify_dtype(df, {\"SiO2\": \"float64\",})\n",
    "\n",
    "print(f\"Schema valid: {valid}\")\n",
    "print(f\"Error location: {error_location}\")\n",
    "print(f\"Info: {info}\")"
   ]
  },
  {
   "cell_type": "markdown",
   "id": "6e432339",
   "metadata": {},
   "source": [
    "## 缺失值处理"
   ]
  },
  {
   "cell_type": "code",
   "execution_count": 87,
   "id": "c299c4d4",
   "metadata": {},
   "outputs": [
    {
     "name": "stdout",
     "output_type": "stream",
     "text": [
      "Missing values handled: Label      0\n",
      "Deposit    0\n",
      "SiO2       0\n",
      "TiO2       0\n",
      "Al2O3      0\n",
      "TFe2O3     0\n",
      "MnO        0\n",
      "MgO        0\n",
      "CaO        0\n",
      "Na2O       0\n",
      "K2O        0\n",
      "P2O5       0\n",
      "Rb         0\n",
      "Sr         0\n",
      "Y          0\n",
      "Zr         0\n",
      "Nb         0\n",
      "Ba         0\n",
      "La         0\n",
      "Ce         0\n",
      "Pr         0\n",
      "Nd         0\n",
      "Sm         0\n",
      "Eu         0\n",
      "Gd         0\n",
      "Tb         0\n",
      "Dy         0\n",
      "Ho         0\n",
      "Er         0\n",
      "Tm         0\n",
      "Yb         0\n",
      "Lu         0\n",
      "Hf         0\n",
      "Ta         0\n",
      "Th         0\n",
      "U          0\n",
      "dtype: int64\n",
      "Info: 缺失值处理完成，使用方法: zero\n"
     ]
    }
   ],
   "source": [
    "from data_preprocessing.validator import handle_missing_values, flag_outliers\n",
    "\n",
    "df_miss, info = handle_missing_values(df, method='zero')\n",
    "\n",
    "print(f\"Missing values handled: {df_miss.isnull().sum()}\")\n",
    "print(f\"Info: {info}\")"
   ]
  },
  {
   "cell_type": "markdown",
   "id": "2900c3a6",
   "metadata": {},
   "source": [
    "## CLR 变换"
   ]
  },
  {
   "cell_type": "code",
   "execution_count": 88,
   "id": "7031cd87",
   "metadata": {},
   "outputs": [
    {
     "name": "stdout",
     "output_type": "stream",
     "text": [
      "CLR transformed data:           Label           Deposit  clr_SiO2  clr_TiO2  clr_Al2O3  clr_TFe2O3  \\\n",
      "0  Au-rich PCDs  Oyu Tolgoi Cu-Au  0.016901  0.339762   0.111819    0.373189   \n",
      "1  Au-rich PCDs  Oyu Tolgoi Cu-Au -0.112769  0.305860   0.100071    0.335377   \n",
      "2  Au-rich PCDs  Oyu Tolgoi Cu-Au -0.018441 -0.258075   0.032564    0.018368   \n",
      "3  Au-rich PCDs  Oyu Tolgoi Cu-Au  0.013223 -0.320596   0.008188   -0.008444   \n",
      "4  Au-rich PCDs  Oyu Tolgoi Cu-Au  0.001641 -0.199235   0.076728    0.007729   \n",
      "\n",
      "    clr_MnO   clr_MgO   clr_CaO  clr_Na2O   clr_K2O  clr_P2O5  \n",
      "0  0.912696  0.045828  0.221817  0.269416  0.284446  0.413971  \n",
      "1  1.372228  0.012602  0.371920  0.377213  0.284446  0.531754  \n",
      "2  0.507230 -0.694151 -0.463648  0.267382  0.519657 -0.199133  \n",
      "3  0.730374 -0.615162 -0.458559  0.283544  0.355354 -0.279176  \n",
      "4 -0.185917 -0.577891 -0.666589  0.400659  0.473137 -0.279176  \n"
     ]
    }
   ],
   "source": [
    "from data_preprocessing.transform import clr_transform\n",
    "\n",
    "df_clr, info = clr_transform(df, [\"SiO2\", \"TiO2\", \"Al2O3\", \"TFe2O3\", \"MnO\", \"MgO\", \"CaO\", \"Na2O\", \"K2O\", \"P2O5\"])\n",
    "print(f\"CLR transformed data: {df_clr.head()}\")"
   ]
  },
  {
   "cell_type": "markdown",
   "id": "884c2fb3",
   "metadata": {},
   "source": [
    "# Random Forest\n",
    "对CLR变换后和未变化的结果，同时进行随机森林分类（使用相同的树数量），并对比结果\n",
    "\n",
    "结果表明随机森林分类似乎对数据的对数变换不敏感。"
   ]
  },
  {
   "cell_type": "code",
   "execution_count": 89,
   "id": "70d3fe86",
   "metadata": {},
   "outputs": [
    {
     "name": "stdout",
     "output_type": "stream",
     "text": [
      "CLR 清理后的分类结果：\n",
      "               precision    recall  f1-score   support\n",
      "\n",
      "Au-rich PCDs       0.85      0.76      0.80        29\n",
      "Cu-rich PCDs       0.89      0.93      0.91        60\n",
      "\n",
      "    accuracy                           0.88        89\n",
      "   macro avg       0.87      0.85      0.86        89\n",
      "weighted avg       0.87      0.88      0.87        89\n",
      "\n",
      "CLR 未清理的分类结果：\n",
      "               precision    recall  f1-score   support\n",
      "\n",
      "Au-rich PCDs       0.84      0.90      0.87        29\n",
      "Cu-rich PCDs       0.95      0.92      0.93        60\n",
      "\n",
      "    accuracy                           0.91        89\n",
      "   macro avg       0.89      0.91      0.90        89\n",
      "weighted avg       0.91      0.91      0.91        89\n",
      "\n"
     ]
    }
   ],
   "source": [
    "import numpy as np\n",
    "from sklearn.ensemble import RandomForestClassifier\n",
    "from sklearn.model_selection import train_test_split\n",
    "from sklearn.metrics import classification_report, confusion_matrix\n",
    "\n",
    "X = df_clr.drop(['Label', 'Deposit'], axis=1)\n",
    "y = df_clr['Label']\n",
    "\n",
    "X_train, X_test, y_train, y_test = train_test_split(X, y, test_size=0.2, random_state=0)\n",
    "rf = RandomForestClassifier(n_estimators=3, random_state=0)\n",
    "rf.fit(X_train, y_train)\n",
    "y_pred = rf.predict(X_test)\n",
    "print('CLR 清理后的分类结果：\\n', classification_report(y_test, y_pred))\n",
    "\n",
    "X = df.drop(['Label', 'Deposit'], axis=1)\n",
    "y = df['Label']\n",
    "X_train, X_test, y_train, y_test = train_test_split(X, y, test_size=0.2, random_state=0)\n",
    "rf = RandomForestClassifier(n_estimators=3, random_state=0)\n",
    "rf.fit(X_train, y_train)\n",
    "y_pred = rf.predict(X_test)\n",
    "print('CLR 未清理的分类结果：\\n', classification_report(y_test, y_pred))"
   ]
  },
  {
   "cell_type": "markdown",
   "id": "c04564df",
   "metadata": {},
   "source": [
    "确定最佳树的数量，树越多，模型越稳定，但计算成本越高。此外树太少可能欠拟合，太多可能过拟合，影响模型性能。\n",
    "\n",
    "根据验证误差曲线选择24颗树最合适，此时训练集和验证集的误差都不再下降，是合理的选择。"
   ]
  },
  {
   "cell_type": "code",
   "execution_count": 90,
   "id": "545298ab",
   "metadata": {},
   "outputs": [
    {
     "name": "stderr",
     "output_type": "stream",
     "text": [
      "findfont: Generic family 'sans-serif' not found because none of the following families were found: SimHei\n",
      "findfont: Generic family 'sans-serif' not found because none of the following families were found: SimHei\n",
      "findfont: Generic family 'sans-serif' not found because none of the following families were found: SimHei\n",
      "findfont: Generic family 'sans-serif' not found because none of the following families were found: SimHei\n",
      "findfont: Generic family 'sans-serif' not found because none of the following families were found: SimHei\n",
      "findfont: Generic family 'sans-serif' not found because none of the following families were found: SimHei\n",
      "findfont: Generic family 'sans-serif' not found because none of the following families were found: SimHei\n",
      "findfont: Generic family 'sans-serif' not found because none of the following families were found: SimHei\n",
      "findfont: Generic family 'sans-serif' not found because none of the following families were found: SimHei\n",
      "findfont: Generic family 'sans-serif' not found because none of the following families were found: SimHei\n",
      "findfont: Generic family 'sans-serif' not found because none of the following families were found: SimHei\n",
      "findfont: Generic family 'sans-serif' not found because none of the following families were found: SimHei\n",
      "findfont: Generic family 'sans-serif' not found because none of the following families were found: SimHei\n",
      "findfont: Generic family 'sans-serif' not found because none of the following families were found: SimHei\n",
      "findfont: Generic family 'sans-serif' not found because none of the following families were found: SimHei\n",
      "findfont: Generic family 'sans-serif' not found because none of the following families were found: SimHei\n",
      "findfont: Generic family 'sans-serif' not found because none of the following families were found: SimHei\n",
      "findfont: Generic family 'sans-serif' not found because none of the following families were found: SimHei\n",
      "findfont: Generic family 'sans-serif' not found because none of the following families were found: SimHei\n",
      "findfont: Generic family 'sans-serif' not found because none of the following families were found: SimHei\n",
      "findfont: Generic family 'sans-serif' not found because none of the following families were found: SimHei\n",
      "findfont: Generic family 'sans-serif' not found because none of the following families were found: SimHei\n",
      "findfont: Generic family 'sans-serif' not found because none of the following families were found: SimHei\n",
      "findfont: Generic family 'sans-serif' not found because none of the following families were found: SimHei\n",
      "findfont: Generic family 'sans-serif' not found because none of the following families were found: SimHei\n",
      "findfont: Generic family 'sans-serif' not found because none of the following families were found: SimHei\n",
      "findfont: Generic family 'sans-serif' not found because none of the following families were found: SimHei\n",
      "findfont: Generic family 'sans-serif' not found because none of the following families were found: SimHei\n",
      "findfont: Generic family 'sans-serif' not found because none of the following families were found: SimHei\n",
      "findfont: Generic family 'sans-serif' not found because none of the following families were found: SimHei\n",
      "findfont: Generic family 'sans-serif' not found because none of the following families were found: SimHei\n",
      "findfont: Generic family 'sans-serif' not found because none of the following families were found: SimHei\n",
      "findfont: Generic family 'sans-serif' not found because none of the following families were found: SimHei\n",
      "findfont: Generic family 'sans-serif' not found because none of the following families were found: SimHei\n",
      "findfont: Generic family 'sans-serif' not found because none of the following families were found: SimHei\n",
      "findfont: Generic family 'sans-serif' not found because none of the following families were found: SimHei\n",
      "findfont: Generic family 'sans-serif' not found because none of the following families were found: SimHei\n",
      "findfont: Generic family 'sans-serif' not found because none of the following families were found: SimHei\n",
      "findfont: Generic family 'sans-serif' not found because none of the following families were found: SimHei\n",
      "findfont: Generic family 'sans-serif' not found because none of the following families were found: SimHei\n",
      "findfont: Generic family 'sans-serif' not found because none of the following families were found: SimHei\n",
      "findfont: Generic family 'sans-serif' not found because none of the following families were found: SimHei\n",
      "findfont: Generic family 'sans-serif' not found because none of the following families were found: SimHei\n",
      "findfont: Generic family 'sans-serif' not found because none of the following families were found: SimHei\n",
      "findfont: Generic family 'sans-serif' not found because none of the following families were found: SimHei\n",
      "findfont: Generic family 'sans-serif' not found because none of the following families were found: SimHei\n",
      "findfont: Generic family 'sans-serif' not found because none of the following families were found: SimHei\n",
      "findfont: Generic family 'sans-serif' not found because none of the following families were found: SimHei\n",
      "findfont: Generic family 'sans-serif' not found because none of the following families were found: SimHei\n",
      "findfont: Generic family 'sans-serif' not found because none of the following families were found: SimHei\n",
      "findfont: Generic family 'sans-serif' not found because none of the following families were found: SimHei\n",
      "findfont: Generic family 'sans-serif' not found because none of the following families were found: SimHei\n",
      "findfont: Generic family 'sans-serif' not found because none of the following families were found: SimHei\n",
      "findfont: Generic family 'sans-serif' not found because none of the following families were found: SimHei\n",
      "findfont: Generic family 'sans-serif' not found because none of the following families were found: SimHei\n",
      "findfont: Generic family 'sans-serif' not found because none of the following families were found: SimHei\n",
      "findfont: Generic family 'sans-serif' not found because none of the following families were found: SimHei\n",
      "findfont: Generic family 'sans-serif' not found because none of the following families were found: SimHei\n",
      "findfont: Generic family 'sans-serif' not found because none of the following families were found: SimHei\n",
      "findfont: Generic family 'sans-serif' not found because none of the following families were found: SimHei\n",
      "findfont: Generic family 'sans-serif' not found because none of the following families were found: SimHei\n",
      "findfont: Generic family 'sans-serif' not found because none of the following families were found: SimHei\n",
      "findfont: Generic family 'sans-serif' not found because none of the following families were found: SimHei\n",
      "findfont: Generic family 'sans-serif' not found because none of the following families were found: SimHei\n",
      "findfont: Generic family 'sans-serif' not found because none of the following families were found: SimHei\n",
      "findfont: Generic family 'sans-serif' not found because none of the following families were found: SimHei\n",
      "findfont: Generic family 'sans-serif' not found because none of the following families were found: SimHei\n",
      "findfont: Generic family 'sans-serif' not found because none of the following families were found: SimHei\n",
      "findfont: Generic family 'sans-serif' not found because none of the following families were found: SimHei\n",
      "findfont: Generic family 'sans-serif' not found because none of the following families were found: SimHei\n",
      "findfont: Generic family 'sans-serif' not found because none of the following families were found: SimHei\n",
      "findfont: Generic family 'sans-serif' not found because none of the following families were found: SimHei\n",
      "findfont: Generic family 'sans-serif' not found because none of the following families were found: SimHei\n",
      "findfont: Generic family 'sans-serif' not found because none of the following families were found: SimHei\n",
      "findfont: Generic family 'sans-serif' not found because none of the following families were found: SimHei\n",
      "findfont: Generic family 'sans-serif' not found because none of the following families were found: SimHei\n",
      "findfont: Generic family 'sans-serif' not found because none of the following families were found: SimHei\n",
      "findfont: Generic family 'sans-serif' not found because none of the following families were found: SimHei\n",
      "findfont: Generic family 'sans-serif' not found because none of the following families were found: SimHei\n",
      "findfont: Generic family 'sans-serif' not found because none of the following families were found: SimHei\n"
     ]
    },
    {
     "name": "stdout",
     "output_type": "stream",
     "text": [
      "Optimal number of trees: 13\n",
      "Minimum validation error: 0.2854\n"
     ]
    },
    {
     "data": {
      "image/png": "[encoded data removed]",
      "text/plain": [
       "<Figure size 1000x600 with 1 Axes>"
      ]
     },
     "metadata": {},
     "output_type": "display_data"
    }
   ],
   "source": [
    "import matplotlib.pyplot as plt\n",
    "from sklearn.ensemble import RandomForestClassifier\n",
    "from sklearn.model_selection import cross_val_score\n",
    "from sklearn.metrics import accuracy_score\n",
    "\n",
    "# 定义要测试的树的数量范围\n",
    "n_trees = range(1, 101, 1)\n",
    "\n",
    "# 存储训练和验证分数\n",
    "train_scores = []\n",
    "val_scores = []\n",
    "\n",
    "# 对每个树的数量进行测试\n",
    "for n in n_trees:\n",
    "    # 创建随机森林分类器\n",
    "    rf = RandomForestClassifier(n_estimators=n, random_state=0)\n",
    "    \n",
    "    # 使用交叉验证计算验证分数\n",
    "    val_score = cross_val_score(rf, X, y, cv=5, scoring='accuracy').mean()\n",
    "    val_scores.append(1 - val_score)  # 转换为误差\n",
    "    \n",
    "    # 在训练集上训练并计算训练分数\n",
    "    rf.fit(X, y)\n",
    "    train_pred = rf.predict(X)\n",
    "    train_score = accuracy_score(y, train_pred)\n",
    "    train_scores.append(1 - train_score)  # 转换为误差\n",
    "\n",
    "# 绘制误差曲线\n",
    "plt.figure(figsize=(10, 6))\n",
    "plt.plot(n_trees, train_scores, label='Training Error', marker='o', markersize=2)\n",
    "plt.plot(n_trees, val_scores, label='Validation Error', marker='o', markersize=2)\n",
    "plt.xlabel('Number of Trees')\n",
    "plt.ylabel('Error Rate')\n",
    "plt.title('Random Forest: Error Rate vs. Number of Trees')\n",
    "plt.legend()\n",
    "plt.grid(True)\n",
    "\n",
    "# 打印最佳树的数量\n",
    "best_n = n_trees[np.argmin(val_scores)]\n",
    "print(f'Optimal number of trees: {best_n}')\n",
    "print(f'Minimum validation error: {min(val_scores):.4f}')"
   ]
  },
  {
   "cell_type": "markdown",
   "id": "23d4efd7",
   "metadata": {},
   "source": [
    "# SVM with RBF kernel"
   ]
  },
  {
   "cell_type": "code",
   "execution_count": 99,
   "id": "35d2196a",
   "metadata": {},
   "outputs": [
    {
     "name": "stderr",
     "output_type": "stream",
     "text": [
      "findfont: Generic family 'sans-serif' not found because none of the following families were found: SimHei\n",
      "findfont: Generic family 'sans-serif' not found because none of the following families were found: SimHei\n",
      "findfont: Generic family 'sans-serif' not found because none of the following families were found: SimHei\n",
      "findfont: Generic family 'sans-serif' not found because none of the following families were found: SimHei\n",
      "findfont: Generic family 'sans-serif' not found because none of the following families were found: SimHei\n",
      "findfont: Generic family 'sans-serif' not found because none of the following families were found: SimHei\n",
      "findfont: Generic family 'sans-serif' not found because none of the following families were found: SimHei\n",
      "findfont: Generic family 'sans-serif' not found because none of the following families were found: SimHei\n",
      "findfont: Generic family 'sans-serif' not found because none of the following families were found: SimHei\n",
      "findfont: Generic family 'sans-serif' not found because none of the following families were found: SimHei\n",
      "findfont: Generic family 'sans-serif' not found because none of the following families were found: SimHei\n",
      "findfont: Generic family 'sans-serif' not found because none of the following families were found: SimHei\n",
      "findfont: Generic family 'sans-serif' not found because none of the following families were found: SimHei\n",
      "findfont: Generic family 'sans-serif' not found because none of the following families were found: SimHei\n",
      "findfont: Generic family 'sans-serif' not found because none of the following families were found: SimHei\n",
      "findfont: Generic family 'sans-serif' not found because none of the following families were found: SimHei\n",
      "findfont: Generic family 'sans-serif' not found because none of the following families were found: SimHei\n",
      "findfont: Generic family 'sans-serif' not found because none of the following families were found: SimHei\n",
      "findfont: Generic family 'sans-serif' not found because none of the following families were found: SimHei\n",
      "findfont: Generic family 'sans-serif' not found because none of the following families were found: SimHei\n",
      "findfont: Generic family 'sans-serif' not found because none of the following families were found: SimHei\n",
      "findfont: Generic family 'sans-serif' not found because none of the following families were found: SimHei\n",
      "findfont: Generic family 'sans-serif' not found because none of the following families were found: SimHei\n",
      "findfont: Generic family 'sans-serif' not found because none of the following families were found: SimHei\n",
      "findfont: Generic family 'sans-serif' not found because none of the following families were found: SimHei\n"
     ]
    },
    {
     "name": "stdout",
     "output_type": "stream",
     "text": [
      "SVM classifier: SVC(C=10)\n",
      "              precision    recall  f1-score   support\n",
      "\n",
      "Au-rich PCDs       0.81      0.76      0.79        29\n",
      "Cu-rich PCDs       0.89      0.92      0.90        60\n",
      "\n",
      "    accuracy                           0.87        89\n",
      "   macro avg       0.85      0.84      0.84        89\n",
      "weighted avg       0.86      0.87      0.86        89\n",
      "\n"
     ]
    },
    {
     "data": {
      "text/plain": [
       "<Axes: >"
      ]
     },
     "execution_count": 99,
     "metadata": {},
     "output_type": "execute_result"
    },
    {
     "name": "stderr",
     "output_type": "stream",
     "text": [
      "findfont: Generic family 'sans-serif' not found because none of the following families were found: SimHei\n",
      "findfont: Generic family 'sans-serif' not found because none of the following families were found: SimHei\n",
      "findfont: Generic family 'sans-serif' not found because none of the following families were found: SimHei\n",
      "findfont: Generic family 'sans-serif' not found because none of the following families were found: SimHei\n",
      "findfont: Generic family 'sans-serif' not found because none of the following families were found: SimHei\n",
      "findfont: Generic family 'sans-serif' not found because none of the following families were found: SimHei\n",
      "findfont: Generic family 'sans-serif' not found because none of the following families were found: SimHei\n",
      "findfont: Generic family 'sans-serif' not found because none of the following families were found: SimHei\n",
      "findfont: Generic family 'sans-serif' not found because none of the following families were found: SimHei\n",
      "findfont: Generic family 'sans-serif' not found because none of the following families were found: SimHei\n",
      "findfont: Generic family 'sans-serif' not found because none of the following families were found: SimHei\n",
      "findfont: Generic family 'sans-serif' not found because none of the following families were found: SimHei\n",
      "findfont: Generic family 'sans-serif' not found because none of the following families were found: SimHei\n",
      "findfont: Generic family 'sans-serif' not found because none of the following families were found: SimHei\n",
      "findfont: Generic family 'sans-serif' not found because none of the following families were found: SimHei\n",
      "findfont: Generic family 'sans-serif' not found because none of the following families were found: SimHei\n",
      "findfont: Generic family 'sans-serif' not found because none of the following families were found: SimHei\n",
      "findfont: Generic family 'sans-serif' not found because none of the following families were found: SimHei\n",
      "findfont: Generic family 'sans-serif' not found because none of the following families were found: SimHei\n",
      "findfont: Generic family 'sans-serif' not found because none of the following families were found: SimHei\n",
      "findfont: Generic family 'sans-serif' not found because none of the following families were found: SimHei\n",
      "findfont: Generic family 'sans-serif' not found because none of the following families were found: SimHei\n",
      "findfont: Generic family 'sans-serif' not found because none of the following families were found: SimHei\n",
      "findfont: Generic family 'sans-serif' not found because none of the following families were found: SimHei\n",
      "findfont: Generic family 'sans-serif' not found because none of the following families were found: SimHei\n",
      "findfont: Generic family 'sans-serif' not found because none of the following families were found: SimHei\n",
      "findfont: Generic family 'sans-serif' not found because none of the following families were found: SimHei\n",
      "findfont: Generic family 'sans-serif' not found because none of the following families were found: SimHei\n",
      "findfont: Generic family 'sans-serif' not found because none of the following families were found: SimHei\n",
      "findfont: Generic family 'sans-serif' not found because none of the following families were found: SimHei\n",
      "findfont: Generic family 'sans-serif' not found because none of the following families were found: SimHei\n",
      "findfont: Generic family 'sans-serif' not found because none of the following families were found: SimHei\n",
      "findfont: Generic family 'sans-serif' not found because none of the following families were found: SimHei\n",
      "findfont: Generic family 'sans-serif' not found because none of the following families were found: SimHei\n",
      "findfont: Generic family 'sans-serif' not found because none of the following families were found: SimHei\n",
      "findfont: Generic family 'sans-serif' not found because none of the following families were found: SimHei\n",
      "findfont: Generic family 'sans-serif' not found because none of the following families were found: SimHei\n",
      "findfont: Generic family 'sans-serif' not found because none of the following families were found: SimHei\n",
      "findfont: Generic family 'sans-serif' not found because none of the following families were found: SimHei\n",
      "findfont: Generic family 'sans-serif' not found because none of the following families were found: SimHei\n",
      "findfont: Generic family 'sans-serif' not found because none of the following families were found: SimHei\n",
      "findfont: Generic family 'sans-serif' not found because none of the following families were found: SimHei\n",
      "findfont: Generic family 'sans-serif' not found because none of the following families were found: SimHei\n",
      "findfont: Generic family 'sans-serif' not found because none of the following families were found: SimHei\n",
      "findfont: Generic family 'sans-serif' not found because none of the following families were found: SimHei\n",
      "findfont: Generic family 'sans-serif' not found because none of the following families were found: SimHei\n",
      "findfont: Generic family 'sans-serif' not found because none of the following families were found: SimHei\n",
      "findfont: Generic family 'sans-serif' not found because none of the following families were found: SimHei\n",
      "findfont: Generic family 'sans-serif' not found because none of the following families were found: SimHei\n",
      "findfont: Generic family 'sans-serif' not found because none of the following families were found: SimHei\n",
      "findfont: Generic family 'sans-serif' not found because none of the following families were found: SimHei\n",
      "findfont: Generic family 'sans-serif' not found because none of the following families were found: SimHei\n",
      "findfont: Generic family 'sans-serif' not found because none of the following families were found: SimHei\n",
      "findfont: Generic family 'sans-serif' not found because none of the following families were found: SimHei\n"
     ]
    },
    {
     "data": {
      "image/png": "[encoded data removed]",
      "text/plain": [
       "<Figure size 800x600 with 2 Axes>"
      ]
     },
     "metadata": {},
     "output_type": "display_data"
    }
   ],
   "source": [
    "from modeling.svm_classifier import train_svm_classifier, classification_report\n",
    "\n",
    "X = df_clr.drop(['Label', 'Deposit'], axis=1)\n",
    "y = df_clr['Label']\n",
    "\n",
    "SVM_model, SVM_results = train_svm_classifier(X, y, test_size=0.2, random_state=0)\n",
    "print(f\"SVM classifier: {SVM_model}\")\n",
    "print(SVM_results[\"classification_report\"])\n",
    "\n",
    "import seaborn as sns\n",
    "plt.figure(figsize=(8, 6))\n",
    "confusion_matrix = SVM_results[\"confusion_matrix\"]\n",
    "# 将混淆矩阵转换为百分比\n",
    "confusion_matrix_percent = confusion_matrix / confusion_matrix.sum(axis=1).reshape(-1, 1)\n",
    "sns.heatmap(confusion_matrix_percent, annot=True, fmt='.2', cmap='Blues', xticklabels=[\"Cu\", \"Au\"], yticklabels=[\"Cu\", \"Au\"])"
   ]
  }
 ],
 "metadata": {
  "kernelspec": {
   "display_name": "datamining",
   "language": "python",
   "name": "python3"
  },
  "language_info": {
   "codemirror_mode": {
    "name": "ipython",
    "version": 3
   },
   "file_extension": ".py",
   "mimetype": "text/x-python",
   "name": "python",
   "nbconvert_exporter": "python",
   "pygments_lexer": "ipython3",
   "version": "3.10.16"
  }
 },
 "nbformat": 4,
 "nbformat_minor": 5
}
