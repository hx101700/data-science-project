{
 "cells": [
  {
   "cell_type": "markdown",
   "id": "6844807d",
   "metadata": {},
   "source": [
    "# COMMON TOOLS FOR DATA SCIENCE"
   ]
  },
  {
   "cell_type": "markdown",
   "id": "b36bd3bd",
   "metadata": {},
   "source": [
    "## 读取数据"
   ]
  },
  {
   "cell_type": "code",
   "execution_count": 101,
   "id": "d53b90e5",
   "metadata": {},
   "outputs": [
    {
     "name": "stdout",
     "output_type": "stream",
     "text": [
      "          Label           Deposit   SiO2  TiO2  Al2O3  TFe2O3   MnO   MgO  \\\n",
      "0  Au-rich PCDs  Oyu Tolgoi Cu-Au  65.37  0.60  17.98    5.39  0.12  1.53   \n",
      "1  Au-rich PCDs  Oyu Tolgoi Cu-Au  57.42  0.58  17.77    5.19  0.19  1.48   \n",
      "2  Au-rich PCDs  Oyu Tolgoi Cu-Au  63.10  0.33  16.61    3.78  0.08  0.73   \n",
      "3  Au-rich PCDs  Oyu Tolgoi Cu-Au  65.13  0.31  16.21    3.68  0.10  0.79   \n",
      "4  Au-rich PCDs  Oyu Tolgoi Cu-Au  64.38  0.35  17.36    3.74  0.04  0.82   \n",
      "\n",
      "    CaO  Na2O  ...    Dy    Ho    Er    Tm    Yb    Lu   Hf    Ta    Th     U  \n",
      "0  3.89  4.92  ...  3.35  0.63  1.93  0.27  2.00  0.32  3.0  0.40  2.63  1.54  \n",
      "1  4.52  5.48  ...  3.30  0.70  2.10  0.30  2.10  0.30  3.0  0.50  3.00  1.30  \n",
      "2  1.96  4.91  ...  1.91  0.40  1.26  0.21  1.54  0.28  2.4  0.34  2.81  1.71  \n",
      "3  1.97  4.99  ...  1.90  0.40  1.25  0.20  1.46  0.25  2.5  0.34  2.63  1.32  \n",
      "4  1.60  5.61  ...  2.07  0.43  1.32  0.22  1.59  0.28  2.4  0.30  2.38  1.54  \n",
      "\n",
      "[5 rows x 36 columns]\n",
      "Info: CSV 文件 ../executable/2025-Project-Data(ESM Table 1).csv 读取成功\n"
     ]
    }
   ],
   "source": [
    "from data_preprocessing.loader import load_data\n",
    "\n",
    "df, info = load_data(r'../executable/2025-Project-Data(ESM Table 1).csv')\n",
    "print(df.head())\n",
    "print(f\"Info: {info}\")"
   ]
  },
  {
   "cell_type": "markdown",
   "id": "6f89b8d5",
   "metadata": {},
   "source": [
    "## 设置单位"
   ]
  },
  {
   "cell_type": "code",
   "execution_count": 102,
   "id": "34eebbc7",
   "metadata": {},
   "outputs": [
    {
     "name": "stdout",
     "output_type": "stream",
     "text": [
      "SiO2: unit = wt%\n",
      "TiO2: unit = wt%\n",
      "Al2O3: unit = wt%\n",
      "TFe2O3: unit = wt%\n",
      "MnO: unit = wt%\n",
      "MgO: unit = wt%\n",
      "CaO: unit = wt%\n",
      "Na2O: unit = wt%\n",
      "K2O: unit = wt%\n",
      "P2O5: unit = wt%\n",
      "Rb: unit = ppm\n",
      "Sr: unit = ppm\n",
      "Y: unit = ppm\n",
      "Zr: unit = ppm\n",
      "Nb: unit = ppm\n",
      "Ba: unit = ppm\n",
      "La: unit = ppm\n",
      "Ce: unit = ppm\n",
      "Pr: unit = ppm\n",
      "Nd: unit = ppm\n",
      "Sm: unit = ppm\n",
      "Eu: unit = ppm\n",
      "Gd: unit = ppm\n",
      "Tb: unit = ppm\n",
      "Dy: unit = ppm\n",
      "Ho: unit = ppm\n",
      "Er: unit = ppm\n",
      "Tm: unit = ppm\n",
      "Yb: unit = ppm\n",
      "Lu: unit = ppm\n",
      "Hf: unit = ppm\n",
      "Ta: unit = ppm\n",
      "Th: unit = ppm\n",
      "U: unit = ppm\n"
     ]
    }
   ],
   "source": [
    "# 1. 定义单位映射\n",
    "expected_units = {\n",
    "    # Major oxides (wt%)\n",
    "    'SiO2':  'wt%',\n",
    "    'TiO2':  'wt%',\n",
    "    'Al2O3':'wt%',\n",
    "    'TFe2O3':'wt%',\n",
    "    'MnO':   'wt%',\n",
    "    'MgO':   'wt%',\n",
    "    'CaO':   'wt%',\n",
    "    'Na2O':  'wt%',\n",
    "    'K2O':   'wt%',\n",
    "    'P2O5':  'wt%',\n",
    "    # Trace elements (ppm)\n",
    "    'Rb':  'ppm',  'Sr':  'ppm',  'Y':   'ppm',  'Zr':  'ppm',\n",
    "    'Nb':  'ppm',  'Ba':  'ppm',  'La':  'ppm',  'Ce':  'ppm',\n",
    "    'Pr':  'ppm',  'Nd':  'ppm',  'Sm':  'ppm',  'Eu':  'ppm',\n",
    "    'Gd':  'ppm',  'Tb':  'ppm',  'Dy':  'ppm',  'Ho':  'ppm',\n",
    "    'Er':  'ppm',  'Tm':  'ppm',  'Yb':  'ppm',  'Lu':  'ppm',\n",
    "    'Hf':  'ppm',  'Ta':  'ppm',  'Th':  'ppm',  'U':   'ppm'\n",
    "}\n",
    "\n",
    "# 2. 为每一列设置 attrs['unit']\n",
    "for col, unit in expected_units.items():\n",
    "    if col in df.columns:\n",
    "        df[col].attrs['unit'] = unit\n",
    "\n",
    "# 3. 验证设置是否成功\n",
    "for col in expected_units:\n",
    "    if col in df.columns:\n",
    "        print(f\"{col}: unit = {df[col].attrs.get('unit')}\")"
   ]
  },
  {
   "cell_type": "markdown",
   "id": "a8e7d503",
   "metadata": {},
   "source": [
    "## 数据校验"
   ]
  },
  {
   "cell_type": "code",
   "execution_count": 103,
   "id": "13109464",
   "metadata": {},
   "outputs": [
    {
     "name": "stdout",
     "output_type": "stream",
     "text": [
      "Schema valid: True\n",
      "Error location: {}\n",
      "Info: 所有列 dtype 与预期一致\n"
     ]
    }
   ],
   "source": [
    "from data_preprocessing.validator import verify_dtype\n",
    "\n",
    "valid, error_location, info = verify_dtype(df, {\"SiO2\": \"float64\",})\n",
    "\n",
    "print(f\"Schema valid: {valid}\")\n",
    "print(f\"Error location: {error_location}\")\n",
    "print(f\"Info: {info}\")"
   ]
  },
  {
   "cell_type": "code",
   "execution_count": 104,
   "id": "d2c509b6",
   "metadata": {},
   "outputs": [
    {
     "ename": "ImportError",
     "evalue": "cannot import name 'verify_units' from 'data_preprocessing.validator' (/home/sethome/Desktop/data-science-project/code/data_preprocessing/validator.py)",
     "output_type": "error",
     "traceback": [
      "\u001b[0;31m---------------------------------------------------------------------------\u001b[0m",
      "\u001b[0;31mImportError\u001b[0m                               Traceback (most recent call last)",
      "Cell \u001b[0;32mIn[104], line 1\u001b[0m\n\u001b[0;32m----> 1\u001b[0m \u001b[38;5;28;01mfrom\u001b[39;00m\u001b[38;5;250m \u001b[39m\u001b[38;5;21;01mdata_preprocessing\u001b[39;00m\u001b[38;5;21;01m.\u001b[39;00m\u001b[38;5;21;01mvalidator\u001b[39;00m\u001b[38;5;250m \u001b[39m\u001b[38;5;28;01mimport\u001b[39;00m verify_units\n\u001b[1;32m      3\u001b[0m valid, error_location, info \u001b[38;5;241m=\u001b[39m verify_units(df, {\u001b[38;5;124m\"\u001b[39m\u001b[38;5;124mSiO2\u001b[39m\u001b[38;5;124m\"\u001b[39m: \u001b[38;5;124m'\u001b[39m\u001b[38;5;124mwt\u001b[39m\u001b[38;5;124m%\u001b[39m\u001b[38;5;124m'\u001b[39m,})\n\u001b[1;32m      5\u001b[0m \u001b[38;5;28mprint\u001b[39m(\u001b[38;5;124mf\u001b[39m\u001b[38;5;124m\"\u001b[39m\u001b[38;5;124mSchema valid: \u001b[39m\u001b[38;5;132;01m{\u001b[39;00mvalid\u001b[38;5;132;01m}\u001b[39;00m\u001b[38;5;124m\"\u001b[39m)\n",
      "\u001b[0;31mImportError\u001b[0m: cannot import name 'verify_units' from 'data_preprocessing.validator' (/home/sethome/Desktop/data-science-project/code/data_preprocessing/validator.py)"
     ]
    }
   ],
   "source": [
    "from data_preprocessing.validator import verify_units\n",
    "\n",
    "valid, error_location, info = verify_units(df, {\"SiO2\": 'wt%',})\n",
    "\n",
    "print(f\"Schema valid: {valid}\")\n",
    "print(f\"Error location: {error_location}\")\n",
    "print(f\"Info: {info}\")"
   ]
  },
  {
   "cell_type": "markdown",
   "id": "6e432339",
   "metadata": {},
   "source": [
    "## 缺失值处理"
   ]
  },
  {
   "cell_type": "code",
   "execution_count": 5,
   "id": "c299c4d4",
   "metadata": {},
   "outputs": [
    {
     "name": "stdout",
     "output_type": "stream",
     "text": [
      "Missing values handled: Label      0\n",
      "Deposit    0\n",
      "SiO2       0\n",
      "TiO2       0\n",
      "Al2O3      0\n",
      "TFe2O3     0\n",
      "MnO        0\n",
      "MgO        0\n",
      "CaO        0\n",
      "Na2O       0\n",
      "K2O        0\n",
      "P2O5       0\n",
      "Rb         0\n",
      "Sr         0\n",
      "Y          0\n",
      "Zr         0\n",
      "Nb         0\n",
      "Ba         0\n",
      "La         0\n",
      "Ce         0\n",
      "Pr         0\n",
      "Nd         0\n",
      "Sm         0\n",
      "Eu         0\n",
      "Gd         0\n",
      "Tb         0\n",
      "Dy         0\n",
      "Ho         0\n",
      "Er         0\n",
      "Tm         0\n",
      "Yb         0\n",
      "Lu         0\n",
      "Hf         0\n",
      "Ta         0\n",
      "Th         0\n",
      "U          0\n",
      "dtype: int64\n",
      "Info: 缺失值处理完成，使用方法: zero\n"
     ]
    }
   ],
   "source": [
    "from data_preprocessing.validator import handle_missing_values\n",
    "\n",
    "df_miss, info = handle_missing_values(df, method='zero')\n",
    "\n",
    "print(f\"Missing values handled: {df_miss.isnull().sum()}\")\n",
    "print(f\"Info: {info}\")"
   ]
  },
  {
   "cell_type": "markdown",
   "id": "2900c3a6",
   "metadata": {},
   "source": [
    "## CLR 变换"
   ]
  },
  {
   "cell_type": "code",
   "execution_count": 6,
   "id": "7031cd87",
   "metadata": {},
   "outputs": [
    {
     "name": "stdout",
     "output_type": "stream",
     "text": [
      "CLR transformed data:    clr_SiO2  clr_TiO2  clr_Al2O3  clr_TFe2O3   clr_MnO   clr_MgO   clr_CaO  \\\n",
      "0  0.016901  0.339762   0.111819    0.373189  0.912696  0.045828  0.221817   \n",
      "1 -0.112769  0.305860   0.100071    0.335377  1.372228  0.012602  0.371920   \n",
      "2 -0.018441 -0.258075   0.032564    0.018368  0.507230 -0.694151 -0.463648   \n",
      "3  0.013223 -0.320596   0.008188   -0.008444  0.730374 -0.615162 -0.458559   \n",
      "4  0.001641 -0.199235   0.076728    0.007729 -0.185917 -0.577891 -0.666589   \n",
      "\n",
      "   clr_Na2O   clr_K2O  clr_P2O5  \n",
      "0  0.269416  0.284446  0.413971  \n",
      "1  0.377213  0.284446  0.531754  \n",
      "2  0.267382  0.519657 -0.199133  \n",
      "3  0.283544  0.355354 -0.279176  \n",
      "4  0.400659  0.473137 -0.279176  \n",
      "Info: CLR 变换完成\n"
     ]
    }
   ],
   "source": [
    "from data_preprocessing.transform import clr_transform\n",
    "\n",
    "df_clr, info = clr_transform(df, [\"SiO2\", \"TiO2\", \"Al2O3\", \"TFe2O3\", \"MnO\", \"MgO\", \"CaO\", \"Na2O\", \"K2O\", \"P2O5\"])\n",
    "print(f\"CLR transformed data: {df_clr.head()}\")\n",
    "print(f\"Info: {info}\")"
   ]
  },
  {
   "cell_type": "markdown",
   "id": "6b31117d",
   "metadata": {},
   "source": [
    "## 异常值标记"
   ]
  },
  {
   "cell_type": "code",
   "execution_count": 7,
   "id": "2e220664",
   "metadata": {},
   "outputs": [
    {
     "name": "stdout",
     "output_type": "stream",
     "text": [
      "Outliers flagged:      clr_SiO2  clr_TiO2  clr_Al2O3  clr_TFe2O3    clr_MnO   clr_MgO   clr_CaO  \\\n",
      "7    0.080321 -0.921369  -0.425114    0.896918  -0.185917 -0.495974 -1.935100   \n",
      "16  -0.117308  0.157440  -0.060101    0.905671   0.373699  0.719172 -0.881950   \n",
      "17   0.082902 -0.663540  -0.222542   -0.734743   0.037227 -0.615162 -1.198468   \n",
      "60   0.062211  0.177243  -0.259744    0.163407  -1.572211  0.272885 -1.116790   \n",
      "89   0.157255 -0.458746  -0.139098   -1.547079  -0.879064 -0.653877 -2.004093   \n",
      "104  0.038541 -0.228222  -0.013641   -0.310724 -17.690307 -0.050136 -0.147051   \n",
      "110  0.106396 -0.921369  -0.050896   -1.509807 -17.690307 -1.321049 -2.650720   \n",
      "114  0.083761 -0.864211  -0.044373   -1.891175  -0.473599 -1.401091 -0.147051   \n",
      "121  0.068768 -0.619089  -0.295873   -0.105386   0.219548  0.019336  0.683106   \n",
      "123  0.044809 -0.576529  -0.371397    0.261418   0.625014  0.168681  0.674970   \n",
      "124  0.041232 -0.535707  -0.235839    0.047053   0.373699  0.077985  0.641744   \n",
      "129  0.098672  0.029607   0.016787   -0.696171  -0.879064 -0.302479 -2.409558   \n",
      "141  0.060894 -0.143665  -0.113691    0.627385   1.828986  0.474975 -1.522255   \n",
      "142  0.069349 -0.065703   0.096689   -0.135783   0.037227 -0.615162 -2.445926   \n",
      "143  0.067169 -0.258075  -0.179950    0.760557   2.505326  0.709122 -1.664225   \n",
      "144  0.081038 -0.171064  -0.158586    0.555820   0.219548 -0.890266 -1.849942   \n",
      "145  0.019804 -0.116997  -0.027609    0.650146   1.518831 -0.071955 -1.253126   \n",
      "146  0.041978 -0.041011   0.013111    0.566581   0.219548 -0.627901 -1.771471   \n",
      "184  0.140903 -0.228222  -0.165902   -0.828930  -0.879064 -0.094261 -2.078201   \n",
      "206  0.146294 -0.864211  -0.246128   -0.633323  -0.473599 -0.553793  0.090120   \n",
      "210  0.073839 -0.143665  -0.001732   -0.435888  -1.572211 -2.682025 -0.881950   \n",
      "211  0.091883 -0.091021  -0.078768   -0.419358 -17.690307 -1.458250 -0.836488   \n",
      "212  0.086618 -0.041011  -0.089593   -0.583808  -1.572211 -1.033367 -0.679168   \n",
      "219  0.176088 -0.864211  -0.366001   -1.473875  -0.473599 -1.092790 -1.537070   \n",
      "240  0.078165  0.052080   0.110149   -0.734743  -1.572211 -1.849116 -2.563709   \n",
      "243 -0.185351  1.387081   0.076152    0.915427   1.066846  1.006854  0.844409   \n",
      "250  0.125927 -0.288847   0.019841   -0.892646  -0.879064 -0.924167 -3.176813   \n",
      "313  0.099940 -0.864211  -0.047629   -1.225179  -0.879064 -1.726514 -3.343867   \n",
      "314  0.133034 -1.189633  -0.136243   -2.202954  -0.879064 -2.419661 -2.908549   \n",
      "355 -0.053929  0.339762   0.073266    0.337302 -17.690307  0.151188  0.298492   \n",
      "356 -0.077186  0.339762   0.043938    0.393392 -17.690307  0.208347  0.389464   \n",
      "357 -0.089020  0.157440   0.037968    0.411410 -17.690307  0.208347  0.345012   \n",
      "376 -0.070152  0.664258   0.116812   -0.618209  -0.473599  1.191257  0.923921   \n",
      "417  0.060162  0.157440   0.039165   -0.186427  -0.879064 -0.035850 -2.340565   \n",
      "442 -0.005843 -0.171064   0.053417    0.380583   1.135839  0.162884  0.629849   \n",
      "443  0.002107  0.006617   0.033767    0.292063   1.318161  0.151188  0.562686   \n",
      "\n",
      "     clr_Na2O   clr_K2O  clr_P2O5  outlier_clr_SiO2  outlier_clr_TiO2  \\\n",
      "7   -1.585257  1.041033 -0.125025             False             False   \n",
      "16  -2.265501  1.262076  0.949490             False             False   \n",
      "17  -2.561767  1.313609 -0.972323             False             False   \n",
      "60  -0.508527  0.875069  0.701653             False             False   \n",
      "89  -0.002136  0.328203 -2.070935             False             False   \n",
      "104  0.386296 -0.173490 -0.199133             False             False   \n",
      "110  0.164507  0.519657 -0.818172             False             False   \n",
      "114  0.326688 -0.032411 -0.972323             False             False   \n",
      "121 -1.323892  0.566522 -0.461497             False             False   \n",
      "123 -0.799164  0.470488 -0.366187             False             False   \n",
      "124 -0.905182  0.583248 -0.279176             False             False   \n",
      "129 -0.747279  0.467832 -0.566858             False             False   \n",
      "141 -2.215490  0.197725  0.069131             False             False   \n",
      "142 -2.167862  0.756843 -2.070935             False             False   \n",
      "143 -2.561767 -0.193899  0.008506             False             False   \n",
      "144 -2.240183  0.512053 -2.070935             False             False   \n",
      "145 -2.463326  0.491486  0.326960             False             False   \n",
      "146 -2.191393  0.629553  0.008506             False             False   \n",
      "184 -0.120920  0.014707 -0.366187             False             False   \n",
      "206 -2.240183  0.274815 -0.366187             False             False   \n",
      "210  0.180185  0.355354 -0.279176             False             False   \n",
      "211  0.230033  0.438141 -1.665470             False             False   \n",
      "212  0.281538  0.432646 -1.665470             False             False   \n",
      "219 -1.201675  0.882124 -0.818172             False             False   \n",
      "240 -1.375185  0.534695  0.231650             False             False   \n",
      "243 -0.002136 -0.274371  1.224902             False              True   \n",
      "250 -3.221012  0.724452 -2.764083             False             False   \n",
      "313 -0.521891  1.203927 -1.377788             False             False   \n",
      "314 -0.334351  1.167606 -1.665470             False             False   \n",
      "355  0.244724 -0.023678  0.231650             False             False   \n",
      "356  0.087095  0.208124  0.231650             False             False   \n",
      "357  0.087095  0.208124  0.231650             False             False   \n",
      "376  0.234252 -1.850839 -0.461497             False             False   \n",
      "417 -0.372234  0.604351 -1.377788             False             False   \n",
      "442  0.096804 -1.996021  0.231650             False             False   \n",
      "443  0.246805 -2.370714  0.413971             False             False   \n",
      "\n",
      "     outlier_clr_Al2O3  outlier_clr_TFe2O3  outlier_clr_MnO  outlier_clr_MgO  \\\n",
      "7                 True               False            False            False   \n",
      "16               False               False            False            False   \n",
      "17               False               False            False            False   \n",
      "60                True               False            False            False   \n",
      "89               False               False            False            False   \n",
      "104              False               False             True            False   \n",
      "110              False               False             True            False   \n",
      "114              False                True            False            False   \n",
      "121               True               False            False            False   \n",
      "123               True               False            False            False   \n",
      "124               True               False            False            False   \n",
      "129              False               False            False            False   \n",
      "141              False               False            False            False   \n",
      "142              False               False            False            False   \n",
      "143              False               False            False            False   \n",
      "144              False               False            False            False   \n",
      "145              False               False            False            False   \n",
      "146              False               False            False            False   \n",
      "184              False               False            False            False   \n",
      "206               True               False            False            False   \n",
      "210              False               False            False             True   \n",
      "211              False               False             True            False   \n",
      "212              False               False            False            False   \n",
      "219               True               False            False            False   \n",
      "240              False               False            False            False   \n",
      "243              False               False            False            False   \n",
      "250              False               False            False            False   \n",
      "313              False               False            False            False   \n",
      "314              False                True            False             True   \n",
      "355              False               False             True            False   \n",
      "356              False               False             True            False   \n",
      "357              False               False             True            False   \n",
      "376              False               False            False            False   \n",
      "417              False               False            False            False   \n",
      "442              False               False            False            False   \n",
      "443              False               False            False            False   \n",
      "\n",
      "     outlier_clr_CaO  outlier_clr_Na2O  outlier_clr_K2O  outlier_clr_P2O5  \n",
      "7              False              True            False             False  \n",
      "16             False              True            False             False  \n",
      "17             False              True            False             False  \n",
      "60             False             False            False             False  \n",
      "89             False             False            False              True  \n",
      "104            False             False            False             False  \n",
      "110             True             False            False             False  \n",
      "114            False             False            False             False  \n",
      "121            False             False            False             False  \n",
      "123            False             False            False             False  \n",
      "124            False             False            False             False  \n",
      "129             True             False            False             False  \n",
      "141            False              True            False             False  \n",
      "142             True              True            False              True  \n",
      "143            False              True            False             False  \n",
      "144            False              True            False              True  \n",
      "145            False              True            False             False  \n",
      "146            False              True            False             False  \n",
      "184             True             False            False             False  \n",
      "206            False              True            False             False  \n",
      "210            False             False            False             False  \n",
      "211            False             False            False              True  \n",
      "212            False             False            False              True  \n",
      "219            False             False            False             False  \n",
      "240             True             False            False             False  \n",
      "243            False             False            False             False  \n",
      "250             True              True            False              True  \n",
      "313             True             False            False             False  \n",
      "314             True             False            False              True  \n",
      "355            False             False            False             False  \n",
      "356            False             False            False             False  \n",
      "357            False             False            False             False  \n",
      "376            False             False             True             False  \n",
      "417             True             False            False             False  \n",
      "442            False             False             True             False  \n",
      "443            False             False             True             False  \n",
      "Number of outliers: 36\n",
      "Info: 异常值标记完成 (阈值: 3.0)\n"
     ]
    }
   ],
   "source": [
    "from data_preprocessing.validator import flag_outliers\n",
    "\n",
    "df_proc, info = flag_outliers(df_clr, z_thresh=3.0)\n",
    "# 找出所有 outlier 列名\n",
    "outlier_cols = [c for c in df_proc.columns if c.startswith('outlier_')]\n",
    "# 如果任意一列为 True，就保留该行\n",
    "mask = df_proc[outlier_cols].any(axis=1)\n",
    "# 应用掩码\n",
    "outliers = df_proc[mask]\n",
    "print(f\"Outliers flagged: {outliers}\")\n",
    "# 符合条件的行数\n",
    "print(f\"Number of outliers: {len(outliers)}\")\n",
    "print(f\"Info: {info}\")"
   ]
  },
  {
   "cell_type": "markdown",
   "id": "0cae6f55",
   "metadata": {},
   "source": [
    "## 可视化"
   ]
  },
  {
   "cell_type": "code",
   "execution_count": 8,
   "id": "3b659a71",
   "metadata": {},
   "outputs": [
    {
     "ename": "KeyError",
     "evalue": "'K2O'",
     "output_type": "error",
     "traceback": [
      "\u001b[1;31m---------------------------------------------------------------------------\u001b[0m",
      "\u001b[1;31mKeyError\u001b[0m                                  Traceback (most recent call last)",
      "File \u001b[1;32md:\\CondaEnvs\\openmmlab\\Lib\\site-packages\\pandas\\core\\indexes\\base.py:3805\u001b[0m, in \u001b[0;36mIndex.get_loc\u001b[1;34m(self, key)\u001b[0m\n\u001b[0;32m   3804\u001b[0m \u001b[38;5;28;01mtry\u001b[39;00m:\n\u001b[1;32m-> 3805\u001b[0m     \u001b[38;5;28;01mreturn\u001b[39;00m \u001b[38;5;28;43mself\u001b[39;49m\u001b[38;5;241;43m.\u001b[39;49m\u001b[43m_engine\u001b[49m\u001b[38;5;241;43m.\u001b[39;49m\u001b[43mget_loc\u001b[49m\u001b[43m(\u001b[49m\u001b[43mcasted_key\u001b[49m\u001b[43m)\u001b[49m\n\u001b[0;32m   3806\u001b[0m \u001b[38;5;28;01mexcept\u001b[39;00m \u001b[38;5;167;01mKeyError\u001b[39;00m \u001b[38;5;28;01mas\u001b[39;00m err:\n",
      "File \u001b[1;32mindex.pyx:167\u001b[0m, in \u001b[0;36mpandas._libs.index.IndexEngine.get_loc\u001b[1;34m()\u001b[0m\n",
      "File \u001b[1;32mindex.pyx:196\u001b[0m, in \u001b[0;36mpandas._libs.index.IndexEngine.get_loc\u001b[1;34m()\u001b[0m\n",
      "File \u001b[1;32mpandas\\\\_libs\\\\hashtable_class_helper.pxi:7081\u001b[0m, in \u001b[0;36mpandas._libs.hashtable.PyObjectHashTable.get_item\u001b[1;34m()\u001b[0m\n",
      "File \u001b[1;32mpandas\\\\_libs\\\\hashtable_class_helper.pxi:7089\u001b[0m, in \u001b[0;36mpandas._libs.hashtable.PyObjectHashTable.get_item\u001b[1;34m()\u001b[0m\n",
      "\u001b[1;31mKeyError\u001b[0m: 'K2O'",
      "\nThe above exception was the direct cause of the following exception:\n",
      "\u001b[1;31mKeyError\u001b[0m                                  Traceback (most recent call last)",
      "Cell \u001b[1;32mIn[8], line 32\u001b[0m\n\u001b[0;32m     30\u001b[0m \u001b[38;5;66;03m# 4. Geochemical Ratio Diagrams\u001b[39;00m\n\u001b[0;32m     31\u001b[0m ratios \u001b[38;5;241m=\u001b[39m [(\u001b[38;5;124m'\u001b[39m\u001b[38;5;124mK2O\u001b[39m\u001b[38;5;124m'\u001b[39m,\u001b[38;5;124m'\u001b[39m\u001b[38;5;124mNa2O\u001b[39m\u001b[38;5;124m'\u001b[39m), (\u001b[38;5;124m'\u001b[39m\u001b[38;5;124mSr\u001b[39m\u001b[38;5;124m'\u001b[39m,\u001b[38;5;124m'\u001b[39m\u001b[38;5;124mY\u001b[39m\u001b[38;5;124m'\u001b[39m)]\n\u001b[1;32m---> 32\u001b[0m fig5 \u001b[38;5;241m=\u001b[39m \u001b[43mplot_ratio_diagrams\u001b[49m\u001b[43m(\u001b[49m\u001b[43mdf_clr\u001b[49m\u001b[43m,\u001b[49m\u001b[43m \u001b[49m\u001b[43mratios\u001b[49m\u001b[43m,\u001b[49m\u001b[43m \u001b[49m\u001b[43magainst\u001b[49m\u001b[38;5;241;43m=\u001b[39;49m\u001b[38;5;124;43m'\u001b[39;49m\u001b[38;5;124;43mSiO2\u001b[39;49m\u001b[38;5;124;43m'\u001b[39;49m\u001b[43m)\u001b[49m\n\u001b[0;32m     33\u001b[0m fig5\u001b[38;5;241m.\u001b[39msavefig(\u001b[38;5;124m\"\u001b[39m\u001b[38;5;124m../result/fig5_ratio_diagrams.png\u001b[39m\u001b[38;5;124m\"\u001b[39m, dpi\u001b[38;5;241m=\u001b[39m\u001b[38;5;241m300\u001b[39m, bbox_inches\u001b[38;5;241m=\u001b[39m\u001b[38;5;124m'\u001b[39m\u001b[38;5;124mtight\u001b[39m\u001b[38;5;124m'\u001b[39m)\n",
      "File \u001b[1;32md:\\Project\\data-science-project\\code\\visualization\\plot.py:120\u001b[0m, in \u001b[0;36mplot_ratio_diagrams\u001b[1;34m(df, ratios, against)\u001b[0m\n\u001b[0;32m    118\u001b[0m fig, axes \u001b[38;5;241m=\u001b[39m plt\u001b[38;5;241m.\u001b[39msubplots(\u001b[38;5;241m1\u001b[39m, n, figsize\u001b[38;5;241m=\u001b[39m(\u001b[38;5;241m5\u001b[39m\u001b[38;5;241m*\u001b[39mn, \u001b[38;5;241m5\u001b[39m), sharey\u001b[38;5;241m=\u001b[39m\u001b[38;5;28;01mTrue\u001b[39;00m)\n\u001b[0;32m    119\u001b[0m \u001b[38;5;28;01mfor\u001b[39;00m ax, (num, den) \u001b[38;5;129;01min\u001b[39;00m \u001b[38;5;28mzip\u001b[39m(axes, ratios):\n\u001b[1;32m--> 120\u001b[0m     ratio \u001b[38;5;241m=\u001b[39m \u001b[43mdf\u001b[49m\u001b[43m[\u001b[49m\u001b[43mnum\u001b[49m\u001b[43m]\u001b[49m \u001b[38;5;241m/\u001b[39m df[den]\n\u001b[0;32m    121\u001b[0m     sns\u001b[38;5;241m.\u001b[39mscatterplot(\n\u001b[0;32m    122\u001b[0m         x\u001b[38;5;241m=\u001b[39mratio, y\u001b[38;5;241m=\u001b[39mdf[against], hue\u001b[38;5;241m=\u001b[39mdf[\u001b[38;5;124m'\u001b[39m\u001b[38;5;124mLabel\u001b[39m\u001b[38;5;124m'\u001b[39m], palette\u001b[38;5;241m=\u001b[39mdefault_palette,\n\u001b[0;32m    123\u001b[0m         s\u001b[38;5;241m=\u001b[39m\u001b[38;5;241m50\u001b[39m, alpha\u001b[38;5;241m=\u001b[39m\u001b[38;5;241m0.7\u001b[39m, edgecolor\u001b[38;5;241m=\u001b[39m\u001b[38;5;124m'\u001b[39m\u001b[38;5;124mw\u001b[39m\u001b[38;5;124m'\u001b[39m, linewidth\u001b[38;5;241m=\u001b[39m\u001b[38;5;241m0.5\u001b[39m, ax\u001b[38;5;241m=\u001b[39max\n\u001b[0;32m    124\u001b[0m     )\n\u001b[0;32m    125\u001b[0m     ax\u001b[38;5;241m.\u001b[39mset_title(\u001b[38;5;124mf\u001b[39m\u001b[38;5;124m\"\u001b[39m\u001b[38;5;132;01m{\u001b[39;00mnum\u001b[38;5;132;01m}\u001b[39;00m\u001b[38;5;124m/\u001b[39m\u001b[38;5;132;01m{\u001b[39;00mden\u001b[38;5;132;01m}\u001b[39;00m\u001b[38;5;124m vs \u001b[39m\u001b[38;5;132;01m{\u001b[39;00magainst\u001b[38;5;132;01m}\u001b[39;00m\u001b[38;5;124m\"\u001b[39m, fontsize\u001b[38;5;241m=\u001b[39m\u001b[38;5;241m16\u001b[39m)\n",
      "File \u001b[1;32md:\\CondaEnvs\\openmmlab\\Lib\\site-packages\\pandas\\core\\frame.py:4102\u001b[0m, in \u001b[0;36mDataFrame.__getitem__\u001b[1;34m(self, key)\u001b[0m\n\u001b[0;32m   4100\u001b[0m \u001b[38;5;28;01mif\u001b[39;00m \u001b[38;5;28mself\u001b[39m\u001b[38;5;241m.\u001b[39mcolumns\u001b[38;5;241m.\u001b[39mnlevels \u001b[38;5;241m>\u001b[39m \u001b[38;5;241m1\u001b[39m:\n\u001b[0;32m   4101\u001b[0m     \u001b[38;5;28;01mreturn\u001b[39;00m \u001b[38;5;28mself\u001b[39m\u001b[38;5;241m.\u001b[39m_getitem_multilevel(key)\n\u001b[1;32m-> 4102\u001b[0m indexer \u001b[38;5;241m=\u001b[39m \u001b[38;5;28;43mself\u001b[39;49m\u001b[38;5;241;43m.\u001b[39;49m\u001b[43mcolumns\u001b[49m\u001b[38;5;241;43m.\u001b[39;49m\u001b[43mget_loc\u001b[49m\u001b[43m(\u001b[49m\u001b[43mkey\u001b[49m\u001b[43m)\u001b[49m\n\u001b[0;32m   4103\u001b[0m \u001b[38;5;28;01mif\u001b[39;00m is_integer(indexer):\n\u001b[0;32m   4104\u001b[0m     indexer \u001b[38;5;241m=\u001b[39m [indexer]\n",
      "File \u001b[1;32md:\\CondaEnvs\\openmmlab\\Lib\\site-packages\\pandas\\core\\indexes\\base.py:3812\u001b[0m, in \u001b[0;36mIndex.get_loc\u001b[1;34m(self, key)\u001b[0m\n\u001b[0;32m   3807\u001b[0m     \u001b[38;5;28;01mif\u001b[39;00m \u001b[38;5;28misinstance\u001b[39m(casted_key, \u001b[38;5;28mslice\u001b[39m) \u001b[38;5;129;01mor\u001b[39;00m (\n\u001b[0;32m   3808\u001b[0m         \u001b[38;5;28misinstance\u001b[39m(casted_key, abc\u001b[38;5;241m.\u001b[39mIterable)\n\u001b[0;32m   3809\u001b[0m         \u001b[38;5;129;01mand\u001b[39;00m \u001b[38;5;28many\u001b[39m(\u001b[38;5;28misinstance\u001b[39m(x, \u001b[38;5;28mslice\u001b[39m) \u001b[38;5;28;01mfor\u001b[39;00m x \u001b[38;5;129;01min\u001b[39;00m casted_key)\n\u001b[0;32m   3810\u001b[0m     ):\n\u001b[0;32m   3811\u001b[0m         \u001b[38;5;28;01mraise\u001b[39;00m InvalidIndexError(key)\n\u001b[1;32m-> 3812\u001b[0m     \u001b[38;5;28;01mraise\u001b[39;00m \u001b[38;5;167;01mKeyError\u001b[39;00m(key) \u001b[38;5;28;01mfrom\u001b[39;00m \u001b[38;5;21;01merr\u001b[39;00m\n\u001b[0;32m   3813\u001b[0m \u001b[38;5;28;01mexcept\u001b[39;00m \u001b[38;5;167;01mTypeError\u001b[39;00m:\n\u001b[0;32m   3814\u001b[0m     \u001b[38;5;66;03m# If we have a listlike key, _check_indexing_error will raise\u001b[39;00m\n\u001b[0;32m   3815\u001b[0m     \u001b[38;5;66;03m#  InvalidIndexError. Otherwise we fall through and re-raise\u001b[39;00m\n\u001b[0;32m   3816\u001b[0m     \u001b[38;5;66;03m#  the TypeError.\u001b[39;00m\n\u001b[0;32m   3817\u001b[0m     \u001b[38;5;28mself\u001b[39m\u001b[38;5;241m.\u001b[39m_check_indexing_error(key)\n",
      "\u001b[1;31mKeyError\u001b[0m: 'K2O'"
     ]
    },
    {
     "data": {
      "image/png": "[encoded data removed]",
      "text/plain": [
       "<Figure size 1000x500 with 2 Axes>"
      ]
     },
     "metadata": {},
     "output_type": "display_data"
    }
   ],
   "source": [
    "import pandas as pd\n",
    "\n",
    "from visualization.plot import (\n",
    "    plot_scatter_matrix,\n",
    "    plot_correlation_heatmap,\n",
    "    plot_pca_biplot,\n",
    "    plot_ratio_diagrams\n",
    ")\n",
    "\n",
    "df_clr = pd.concat([df_clr, df[['Label']].reset_index(drop=True)], axis=1)\n",
    "\n",
    "# 选择要可视化的 10 个元素\n",
    "elements = ['SiO2','TiO2','Al2O3','TFe2O3','MnO','MgO','CaO','Na2O','K2O','P2O5']\n",
    "\n",
    "# 1. Pair-wise Scatter-Matrix\n",
    "fig1 = plot_scatter_matrix(df_clr, elements, label_col='Label')\n",
    "fig1.savefig(\"../result/fig1_scatter_matrix.png\", dpi=300, bbox_inches='tight')\n",
    "\n",
    "# 2. Correlation Heat-map (Pearson & Spearman)\n",
    "fig2 = plot_correlation_heatmap(df_clr, elements, method='pearson')\n",
    "fig2.savefig(\"../result/fig2_heatmap_pearson.png\", dpi=300, bbox_inches='tight')\n",
    "\n",
    "fig3 = plot_correlation_heatmap(df_clr, elements, method='spearman')\n",
    "fig3.savefig(\"../result/fig3_heatmap_spearman.png\", dpi=300, bbox_inches='tight')\n",
    "\n",
    "# 3. PCA Bi-plot (PC1 vs PC2)\n",
    "fig4 = plot_pca_biplot(df_clr, elements, label_col='Label')\n",
    "fig4.savefig(\"../result/fig4_pca_biplot.png\", dpi=300, bbox_inches='tight')\n",
    "\n",
    "# 4. Geochemical Ratio Diagrams\n",
    "ratios = [('K2O','Na2O'), ('Sr','Y')]\n",
    "fig5 = plot_ratio_diagrams(df_clr, ratios, against='SiO2')\n",
    "fig5.savefig(\"../result/fig5_ratio_diagrams.png\", dpi=300, bbox_inches='tight')"
   ]
  },
  {
   "cell_type": "markdown",
   "id": "c08e49ab",
   "metadata": {},
   "source": [
    "# Random Forest\n",
    "对CLR变换后和未变化的结果，同时进行随机森林分类（使用相同的树数量），并对比结果\n",
    "\n",
    "结果表明随机森林分类似乎对数据的对数变换不敏感。"
   ]
  },
  {
   "cell_type": "code",
   "execution_count": 100,
   "id": "96c11a10",
   "metadata": {},
   "outputs": [
    {
     "name": "stdout",
     "output_type": "stream",
     "text": [
      "CLR 清理后的分类结果：\n",
      "               precision    recall  f1-score   support\n",
      "\n",
      "Au-rich PCDs       0.85      0.76      0.80        29\n",
      "Cu-rich PCDs       0.89      0.93      0.91        60\n",
      "\n",
      "    accuracy                           0.88        89\n",
      "   macro avg       0.87      0.85      0.86        89\n",
      "weighted avg       0.87      0.88      0.87        89\n",
      "\n",
      "CLR 未清理的分类结果：\n",
      "               precision    recall  f1-score   support\n",
      "\n",
      "Au-rich PCDs       0.84      0.90      0.87        29\n",
      "Cu-rich PCDs       0.95      0.92      0.93        60\n",
      "\n",
      "    accuracy                           0.91        89\n",
      "   macro avg       0.89      0.91      0.90        89\n",
      "weighted avg       0.91      0.91      0.91        89\n",
      "\n"
     ]
    }
   ],
   "source": [
    "import numpy as np\n",
    "from sklearn.ensemble import RandomForestClassifier\n",
    "from sklearn.model_selection import train_test_split\n",
    "from sklearn.metrics import classification_report, confusion_matrix\n",
    "\n",
    "X = df_clr.drop(['Label', 'Deposit'], axis=1)\n",
    "y = df_clr['Label']\n",
    "\n",
    "X_train, X_test, y_train, y_test = train_test_split(X, y, test_size=0.2, random_state=0)\n",
    "rf = RandomForestClassifier(n_estimators=3, random_state=0)\n",
    "rf.fit(X_train, y_train)\n",
    "y_pred = rf.predict(X_test)\n",
    "print('CLR 清理后的分类结果：\\n', classification_report(y_test, y_pred))\n",
    "\n",
    "X = df.drop(['Label', 'Deposit'], axis=1)\n",
    "y = df['Label']\n",
    "X_train, X_test, y_train, y_test = train_test_split(X, y, test_size=0.2, random_state=0)\n",
    "rf = RandomForestClassifier(n_estimators=3, random_state=0)\n",
    "rf.fit(X_train, y_train)\n",
    "y_pred = rf.predict(X_test)\n",
    "print('CLR 未清理的分类结果：\\n', classification_report(y_test, y_pred))"
   ]
  }
 ],
 "metadata": {
  "kernelspec": {
   "display_name": "openmmlab",
   "language": "python",
   "name": "openmmlab"
  },
  "language_info": {
   "codemirror_mode": {
    "name": "ipython",
    "version": 3
   },
   "file_extension": ".py",
   "mimetype": "text/x-python",
   "name": "python",
   "nbconvert_exporter": "python",
   "pygments_lexer": "ipython3",
   "version": "3.11.10"
  }
 },
 "nbformat": 4,
 "nbformat_minor": 5
}
