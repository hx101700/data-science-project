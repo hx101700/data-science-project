{
 "cells": [
  {
   "cell_type": "markdown",
   "id": "6844807d",
   "metadata": {},
   "source": [
    "# COMMON TOOLS FOR DATA SCIENCE"
   ]
  },
  {
   "cell_type": "markdown",
   "id": "b36bd3bd",
   "metadata": {},
   "source": [
    "## 读取数据"
   ]
  },
  {
   "cell_type": "code",
   "execution_count": 1,
   "id": "d53b90e5",
   "metadata": {},
   "outputs": [
    {
     "name": "stdout",
     "output_type": "stream",
     "text": [
      "          Label           Deposit   SiO2  TiO2  Al2O3  TFe2O3   MnO   MgO  \\\n",
      "0  Au-rich PCDs  Oyu Tolgoi Cu-Au  65.37  0.60  17.98    5.39  0.12  1.53   \n",
      "1  Au-rich PCDs  Oyu Tolgoi Cu-Au  57.42  0.58  17.77    5.19  0.19  1.48   \n",
      "2  Au-rich PCDs  Oyu Tolgoi Cu-Au  63.10  0.33  16.61    3.78  0.08  0.73   \n",
      "3  Au-rich PCDs  Oyu Tolgoi Cu-Au  65.13  0.31  16.21    3.68  0.10  0.79   \n",
      "4  Au-rich PCDs  Oyu Tolgoi Cu-Au  64.38  0.35  17.36    3.74  0.04  0.82   \n",
      "\n",
      "    CaO  Na2O  ...    Dy    Ho    Er    Tm    Yb    Lu   Hf    Ta    Th     U  \n",
      "0  3.89  4.92  ...  3.35  0.63  1.93  0.27  2.00  0.32  3.0  0.40  2.63  1.54  \n",
      "1  4.52  5.48  ...  3.30  0.70  2.10  0.30  2.10  0.30  3.0  0.50  3.00  1.30  \n",
      "2  1.96  4.91  ...  1.91  0.40  1.26  0.21  1.54  0.28  2.4  0.34  2.81  1.71  \n",
      "3  1.97  4.99  ...  1.90  0.40  1.25  0.20  1.46  0.25  2.5  0.34  2.63  1.32  \n",
      "4  1.60  5.61  ...  2.07  0.43  1.32  0.22  1.59  0.28  2.4  0.30  2.38  1.54  \n",
      "\n",
      "[5 rows x 36 columns]\n",
      "Info: CSV 文件 ../executable/2025-Project-Data(ESM Table 1).csv 读取成功\n"
     ]
    }
   ],
   "source": [
    "from data_preprocessing.loader import load_data\n",
    "\n",
    "df, info = load_data(r'../executable/2025-Project-Data(ESM Table 1).csv')\n",
    "print(df.head())\n",
    "print(f\"Info: {info}\")"
   ]
  },
  {
   "cell_type": "markdown",
   "id": "a8e7d503",
   "metadata": {},
   "source": [
    "## 数据校验"
   ]
  },
  {
   "cell_type": "code",
   "execution_count": 2,
   "id": "13109464",
   "metadata": {},
   "outputs": [
    {
     "name": "stdout",
     "output_type": "stream",
     "text": [
      "Schema valid: True\n",
      "Error location: {}\n",
      "Info: 所有列 dtype 与预期一致\n"
     ]
    }
   ],
   "source": [
    "from data_preprocessing.validator import verify_dtype, handle_missing_values, flag_outliers\n",
    "\n",
    "valid, error_location, info = verify_dtype(df, {\"SiO2\": \"float64\",})\n",
    "\n",
    "print(f\"Schema valid: {valid}\")\n",
    "print(f\"Error location: {error_location}\")\n",
    "print(f\"Info: {info}\")"
   ]
  },
  {
   "cell_type": "markdown",
   "id": "6e432339",
   "metadata": {},
   "source": [
    "## 缺失值处理"
   ]
  },
  {
   "cell_type": "code",
   "execution_count": 3,
   "id": "c299c4d4",
   "metadata": {},
   "outputs": [
    {
     "name": "stdout",
     "output_type": "stream",
     "text": [
      "Missing values handled: Label      0\n",
      "Deposit    0\n",
      "SiO2       0\n",
      "TiO2       0\n",
      "Al2O3      0\n",
      "TFe2O3     0\n",
      "MnO        0\n",
      "MgO        0\n",
      "CaO        0\n",
      "Na2O       0\n",
      "K2O        0\n",
      "P2O5       0\n",
      "Rb         0\n",
      "Sr         0\n",
      "Y          0\n",
      "Zr         0\n",
      "Nb         0\n",
      "Ba         0\n",
      "La         0\n",
      "Ce         0\n",
      "Pr         0\n",
      "Nd         0\n",
      "Sm         0\n",
      "Eu         0\n",
      "Gd         0\n",
      "Tb         0\n",
      "Dy         0\n",
      "Ho         0\n",
      "Er         0\n",
      "Tm         0\n",
      "Yb         0\n",
      "Lu         0\n",
      "Hf         0\n",
      "Ta         0\n",
      "Th         0\n",
      "U          0\n",
      "dtype: int64\n",
      "Info: 缺失值处理完成，使用方法: zero\n"
     ]
    }
   ],
   "source": [
    "from data_preprocessing.validator import handle_missing_values, flag_outliers\n",
    "\n",
    "df_miss, info = handle_missing_values(df, method='zero')\n",
    "\n",
    "print(f\"Missing values handled: {df_miss.isnull().sum()}\")\n",
    "print(f\"Info: {info}\")"
   ]
  },
  {
   "cell_type": "markdown",
   "id": "2900c3a6",
   "metadata": {},
   "source": [
    "## CLR 变换"
   ]
  },
  {
   "cell_type": "code",
   "execution_count": 4,
   "id": "7031cd87",
   "metadata": {},
   "outputs": [
    {
     "name": "stdout",
     "output_type": "stream",
     "text": [
      "CLR transformed data:    clr_SiO2  clr_TiO2  clr_Al2O3  clr_TFe2O3   clr_MnO   clr_MgO   clr_CaO  \\\n",
      "0  0.016901  0.339762   0.111819    0.373189  0.912696  0.045828  0.221817   \n",
      "1 -0.112769  0.305860   0.100071    0.335377  1.372228  0.012602  0.371920   \n",
      "2 -0.018441 -0.258075   0.032564    0.018368  0.507230 -0.694151 -0.463648   \n",
      "3  0.013223 -0.320596   0.008188   -0.008444  0.730374 -0.615162 -0.458559   \n",
      "4  0.001641 -0.199235   0.076728    0.007729 -0.185917 -0.577891 -0.666589   \n",
      "\n",
      "   clr_Na2O   clr_K2O  clr_P2O5  \n",
      "0  0.269416  0.284446  0.413971  \n",
      "1  0.377213  0.284446  0.531754  \n",
      "2  0.267382  0.519657 -0.199133  \n",
      "3  0.283544  0.355354 -0.279176  \n",
      "4  0.400659  0.473137 -0.279176  \n",
      "Info: CLR 变换完成\n"
     ]
    }
   ],
   "source": [
    "from data_preprocessing.transform import clr_transform\n",
    "\n",
    "df_clr, info = clr_transform(df, [\"SiO2\", \"TiO2\", \"Al2O3\", \"TFe2O3\", \"MnO\", \"MgO\", \"CaO\", \"Na2O\", \"K2O\", \"P2O5\"])\n",
    "print(f\"CLR transformed data: {df_clr.head()}\")\n",
    "print(f\"Info: {info}\")"
   ]
  },
  {
   "cell_type": "markdown",
   "id": "6b31117d",
   "metadata": {},
   "source": [
    "## 异常值标记"
   ]
  },
  {
   "cell_type": "code",
   "execution_count": 5,
   "id": "2e220664",
   "metadata": {},
   "outputs": [
    {
     "name": "stdout",
     "output_type": "stream",
     "text": [
      "Outliers flagged:      clr_SiO2  clr_TiO2  clr_Al2O3  clr_TFe2O3    clr_MnO   clr_MgO   clr_CaO  \\\n",
      "7    0.080321 -0.921369  -0.425114    0.896918  -0.185917 -0.495974 -1.935100   \n",
      "16  -0.117308  0.157440  -0.060101    0.905671   0.373699  0.719172 -0.881950   \n",
      "17   0.082902 -0.663540  -0.222542   -0.734743   0.037227 -0.615162 -1.198468   \n",
      "60   0.062211  0.177243  -0.259744    0.163407  -1.572211  0.272885 -1.116790   \n",
      "89   0.157255 -0.458746  -0.139098   -1.547079  -0.879064 -0.653877 -2.004093   \n",
      "104  0.038541 -0.228222  -0.013641   -0.310724 -17.690307 -0.050136 -0.147051   \n",
      "110  0.106396 -0.921369  -0.050896   -1.509807 -17.690307 -1.321049 -2.650720   \n",
      "114  0.083761 -0.864211  -0.044373   -1.891175  -0.473599 -1.401091 -0.147051   \n",
      "121  0.068768 -0.619089  -0.295873   -0.105386   0.219548  0.019336  0.683106   \n",
      "123  0.044809 -0.576529  -0.371397    0.261418   0.625014  0.168681  0.674970   \n",
      "124  0.041232 -0.535707  -0.235839    0.047053   0.373699  0.077985  0.641744   \n",
      "129  0.098672  0.029607   0.016787   -0.696171  -0.879064 -0.302479 -2.409558   \n",
      "141  0.060894 -0.143665  -0.113691    0.627385   1.828986  0.474975 -1.522255   \n",
      "142  0.069349 -0.065703   0.096689   -0.135783   0.037227 -0.615162 -2.445926   \n",
      "143  0.067169 -0.258075  -0.179950    0.760557   2.505326  0.709122 -1.664225   \n",
      "144  0.081038 -0.171064  -0.158586    0.555820   0.219548 -0.890266 -1.849942   \n",
      "145  0.019804 -0.116997  -0.027609    0.650146   1.518831 -0.071955 -1.253126   \n",
      "146  0.041978 -0.041011   0.013111    0.566581   0.219548 -0.627901 -1.771471   \n",
      "184  0.140903 -0.228222  -0.165902   -0.828930  -0.879064 -0.094261 -2.078201   \n",
      "206  0.146294 -0.864211  -0.246128   -0.633323  -0.473599 -0.553793  0.090120   \n",
      "210  0.073839 -0.143665  -0.001732   -0.435888  -1.572211 -2.682025 -0.881950   \n",
      "211  0.091883 -0.091021  -0.078768   -0.419358 -17.690307 -1.458250 -0.836488   \n",
      "212  0.086618 -0.041011  -0.089593   -0.583808  -1.572211 -1.033367 -0.679168   \n",
      "219  0.176088 -0.864211  -0.366001   -1.473875  -0.473599 -1.092790 -1.537070   \n",
      "240  0.078165  0.052080   0.110149   -0.734743  -1.572211 -1.849116 -2.563709   \n",
      "243 -0.185351  1.387081   0.076152    0.915427   1.066846  1.006854  0.844409   \n",
      "250  0.125927 -0.288847   0.019841   -0.892646  -0.879064 -0.924167 -3.176813   \n",
      "313  0.099940 -0.864211  -0.047629   -1.225179  -0.879064 -1.726514 -3.343867   \n",
      "314  0.133034 -1.189633  -0.136243   -2.202954  -0.879064 -2.419661 -2.908549   \n",
      "355 -0.053929  0.339762   0.073266    0.337302 -17.690307  0.151188  0.298492   \n",
      "356 -0.077186  0.339762   0.043938    0.393392 -17.690307  0.208347  0.389464   \n",
      "357 -0.089020  0.157440   0.037968    0.411410 -17.690307  0.208347  0.345012   \n",
      "376 -0.070152  0.664258   0.116812   -0.618209  -0.473599  1.191257  0.923921   \n",
      "417  0.060162  0.157440   0.039165   -0.186427  -0.879064 -0.035850 -2.340565   \n",
      "442 -0.005843 -0.171064   0.053417    0.380583   1.135839  0.162884  0.629849   \n",
      "443  0.002107  0.006617   0.033767    0.292063   1.318161  0.151188  0.562686   \n",
      "\n",
      "     clr_Na2O   clr_K2O  clr_P2O5  outlier_clr_SiO2  outlier_clr_TiO2  \\\n",
      "7   -1.585257  1.041033 -0.125025             False             False   \n",
      "16  -2.265501  1.262076  0.949490             False             False   \n",
      "17  -2.561767  1.313609 -0.972323             False             False   \n",
      "60  -0.508527  0.875069  0.701653             False             False   \n",
      "89  -0.002136  0.328203 -2.070935             False             False   \n",
      "104  0.386296 -0.173490 -0.199133             False             False   \n",
      "110  0.164507  0.519657 -0.818172             False             False   \n",
      "114  0.326688 -0.032411 -0.972323             False             False   \n",
      "121 -1.323892  0.566522 -0.461497             False             False   \n",
      "123 -0.799164  0.470488 -0.366187             False             False   \n",
      "124 -0.905182  0.583248 -0.279176             False             False   \n",
      "129 -0.747279  0.467832 -0.566858             False             False   \n",
      "141 -2.215490  0.197725  0.069131             False             False   \n",
      "142 -2.167862  0.756843 -2.070935             False             False   \n",
      "143 -2.561767 -0.193899  0.008506             False             False   \n",
      "144 -2.240183  0.512053 -2.070935             False             False   \n",
      "145 -2.463326  0.491486  0.326960             False             False   \n",
      "146 -2.191393  0.629553  0.008506             False             False   \n",
      "184 -0.120920  0.014707 -0.366187             False             False   \n",
      "206 -2.240183  0.274815 -0.366187             False             False   \n",
      "210  0.180185  0.355354 -0.279176             False             False   \n",
      "211  0.230033  0.438141 -1.665470             False             False   \n",
      "212  0.281538  0.432646 -1.665470             False             False   \n",
      "219 -1.201675  0.882124 -0.818172             False             False   \n",
      "240 -1.375185  0.534695  0.231650             False             False   \n",
      "243 -0.002136 -0.274371  1.224902             False              True   \n",
      "250 -3.221012  0.724452 -2.764083             False             False   \n",
      "313 -0.521891  1.203927 -1.377788             False             False   \n",
      "314 -0.334351  1.167606 -1.665470             False             False   \n",
      "355  0.244724 -0.023678  0.231650             False             False   \n",
      "356  0.087095  0.208124  0.231650             False             False   \n",
      "357  0.087095  0.208124  0.231650             False             False   \n",
      "376  0.234252 -1.850839 -0.461497             False             False   \n",
      "417 -0.372234  0.604351 -1.377788             False             False   \n",
      "442  0.096804 -1.996021  0.231650             False             False   \n",
      "443  0.246805 -2.370714  0.413971             False             False   \n",
      "\n",
      "     outlier_clr_Al2O3  outlier_clr_TFe2O3  outlier_clr_MnO  outlier_clr_MgO  \\\n",
      "7                 True               False            False            False   \n",
      "16               False               False            False            False   \n",
      "17               False               False            False            False   \n",
      "60                True               False            False            False   \n",
      "89               False               False            False            False   \n",
      "104              False               False             True            False   \n",
      "110              False               False             True            False   \n",
      "114              False                True            False            False   \n",
      "121               True               False            False            False   \n",
      "123               True               False            False            False   \n",
      "124               True               False            False            False   \n",
      "129              False               False            False            False   \n",
      "141              False               False            False            False   \n",
      "142              False               False            False            False   \n",
      "143              False               False            False            False   \n",
      "144              False               False            False            False   \n",
      "145              False               False            False            False   \n",
      "146              False               False            False            False   \n",
      "184              False               False            False            False   \n",
      "206               True               False            False            False   \n",
      "210              False               False            False             True   \n",
      "211              False               False             True            False   \n",
      "212              False               False            False            False   \n",
      "219               True               False            False            False   \n",
      "240              False               False            False            False   \n",
      "243              False               False            False            False   \n",
      "250              False               False            False            False   \n",
      "313              False               False            False            False   \n",
      "314              False                True            False             True   \n",
      "355              False               False             True            False   \n",
      "356              False               False             True            False   \n",
      "357              False               False             True            False   \n",
      "376              False               False            False            False   \n",
      "417              False               False            False            False   \n",
      "442              False               False            False            False   \n",
      "443              False               False            False            False   \n",
      "\n",
      "     outlier_clr_CaO  outlier_clr_Na2O  outlier_clr_K2O  outlier_clr_P2O5  \n",
      "7              False              True            False             False  \n",
      "16             False              True            False             False  \n",
      "17             False              True            False             False  \n",
      "60             False             False            False             False  \n",
      "89             False             False            False              True  \n",
      "104            False             False            False             False  \n",
      "110             True             False            False             False  \n",
      "114            False             False            False             False  \n",
      "121            False             False            False             False  \n",
      "123            False             False            False             False  \n",
      "124            False             False            False             False  \n",
      "129             True             False            False             False  \n",
      "141            False              True            False             False  \n",
      "142             True              True            False              True  \n",
      "143            False              True            False             False  \n",
      "144            False              True            False              True  \n",
      "145            False              True            False             False  \n",
      "146            False              True            False             False  \n",
      "184             True             False            False             False  \n",
      "206            False              True            False             False  \n",
      "210            False             False            False             False  \n",
      "211            False             False            False              True  \n",
      "212            False             False            False              True  \n",
      "219            False             False            False             False  \n",
      "240             True             False            False             False  \n",
      "243            False             False            False             False  \n",
      "250             True              True            False              True  \n",
      "313             True             False            False             False  \n",
      "314             True             False            False              True  \n",
      "355            False             False            False             False  \n",
      "356            False             False            False             False  \n",
      "357            False             False            False             False  \n",
      "376            False             False             True             False  \n",
      "417             True             False            False             False  \n",
      "442            False             False             True             False  \n",
      "443            False             False             True             False  \n",
      "Number of outliers: 36\n",
      "Info: 异常值标记完成 (阈值: 3.0)\n"
     ]
    }
   ],
   "source": [
    "from data_preprocessing.validator import flag_outliers\n",
    "\n",
    "df_proc, info = flag_outliers(df_clr, z_thresh=3.0)\n",
    "# 找出所有 outlier 列名\n",
    "outlier_cols = [c for c in df_proc.columns if c.startswith('outlier_')]\n",
    "# 如果任意一列为 True，就保留该行\n",
    "mask = df_proc[outlier_cols].any(axis=1)\n",
    "# 应用掩码\n",
    "outliers = df_proc[mask]\n",
    "print(f\"Outliers flagged: {outliers}\")\n",
    "# 符合条件的行数\n",
    "print(f\"Number of outliers: {len(outliers)}\")\n",
    "print(f\"Info: {info}\")"
   ]
  }
 ],
 "metadata": {
  "kernelspec": {
   "display_name": "openmmlab",
   "language": "python",
   "name": "openmmlab"
  },
  "language_info": {
   "codemirror_mode": {
    "name": "ipython",
    "version": 3
   },
   "file_extension": ".py",
   "mimetype": "text/x-python",
   "name": "python",
   "nbconvert_exporter": "python",
   "pygments_lexer": "ipython3",
   "version": "3.11.10"
  }
 },
 "nbformat": 4,
 "nbformat_minor": 5
}
