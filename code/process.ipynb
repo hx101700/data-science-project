{
 "cells": [
  {
   "cell_type": "markdown",
   "id": "6844807d",
   "metadata": {},
   "source": [
    "# COMMON TOOLS FOR DATA SCIENCE"
   ]
  },
  {
   "cell_type": "markdown",
   "id": "b36bd3bd",
   "metadata": {},
   "source": [
    "## 读取数据"
   ]
  },
  {
   "cell_type": "code",
   "execution_count": 1,
   "id": "d53b90e5",
   "metadata": {},
   "outputs": [
    {
     "name": "stdout",
     "output_type": "stream",
     "text": [
      "          Label           Deposit   SiO2  TiO2  Al2O3  TFe2O3   MnO   MgO  \\\n",
      "0  Au-rich PCDs  Oyu Tolgoi Cu-Au  65.37  0.60  17.98    5.39  0.12  1.53   \n",
      "1  Au-rich PCDs  Oyu Tolgoi Cu-Au  57.42  0.58  17.77    5.19  0.19  1.48   \n",
      "2  Au-rich PCDs  Oyu Tolgoi Cu-Au  63.10  0.33  16.61    3.78  0.08  0.73   \n",
      "3  Au-rich PCDs  Oyu Tolgoi Cu-Au  65.13  0.31  16.21    3.68  0.10  0.79   \n",
      "4  Au-rich PCDs  Oyu Tolgoi Cu-Au  64.38  0.35  17.36    3.74  0.04  0.82   \n",
      "\n",
      "    CaO  Na2O  ...    Dy    Ho    Er    Tm    Yb    Lu   Hf    Ta    Th     U  \n",
      "0  3.89  4.92  ...  3.35  0.63  1.93  0.27  2.00  0.32  3.0  0.40  2.63  1.54  \n",
      "1  4.52  5.48  ...  3.30  0.70  2.10  0.30  2.10  0.30  3.0  0.50  3.00  1.30  \n",
      "2  1.96  4.91  ...  1.91  0.40  1.26  0.21  1.54  0.28  2.4  0.34  2.81  1.71  \n",
      "3  1.97  4.99  ...  1.90  0.40  1.25  0.20  1.46  0.25  2.5  0.34  2.63  1.32  \n",
      "4  1.60  5.61  ...  2.07  0.43  1.32  0.22  1.59  0.28  2.4  0.30  2.38  1.54  \n",
      "\n",
      "[5 rows x 36 columns]\n",
      "Info: CSV 文件 ../executable/2025-Project-Data(ESM Table 1).csv 读取成功\n"
     ]
    }
   ],
   "source": [
    "from data_preprocessing.loader import load_data\n",
    "\n",
    "df, info = load_data(r'../executable/2025-Project-Data(ESM Table 1).csv')\n",
    "print(df.head())\n",
    "print(f\"Info: {info}\")"
   ]
  },
  {
   "cell_type": "markdown",
   "id": "6f89b8d5",
   "metadata": {},
   "source": [
    "## 设置单位"
   ]
  },
  {
   "cell_type": "code",
   "execution_count": 2,
   "id": "34eebbc7",
   "metadata": {},
   "outputs": [
    {
     "name": "stdout",
     "output_type": "stream",
     "text": [
      "SiO2: unit = wt%\n",
      "TiO2: unit = wt%\n",
      "Al2O3: unit = wt%\n",
      "TFe2O3: unit = wt%\n",
      "MnO: unit = wt%\n",
      "MgO: unit = wt%\n",
      "CaO: unit = wt%\n",
      "Na2O: unit = wt%\n",
      "K2O: unit = wt%\n",
      "P2O5: unit = wt%\n",
      "Rb: unit = ppm\n",
      "Sr: unit = ppm\n",
      "Y: unit = ppm\n",
      "Zr: unit = ppm\n",
      "Nb: unit = ppm\n",
      "Ba: unit = ppm\n",
      "La: unit = ppm\n",
      "Ce: unit = ppm\n",
      "Pr: unit = ppm\n",
      "Nd: unit = ppm\n",
      "Sm: unit = ppm\n",
      "Eu: unit = ppm\n",
      "Gd: unit = ppm\n",
      "Tb: unit = ppm\n",
      "Dy: unit = ppm\n",
      "Ho: unit = ppm\n",
      "Er: unit = ppm\n",
      "Tm: unit = ppm\n",
      "Yb: unit = ppm\n",
      "Lu: unit = ppm\n",
      "Hf: unit = ppm\n",
      "Ta: unit = ppm\n",
      "Th: unit = ppm\n",
      "U: unit = ppm\n"
     ]
    }
   ],
   "source": [
    "# 1. 定义单位映射\n",
    "expected_units = {\n",
    "    # Major oxides (wt%)\n",
    "    'SiO2':  'wt%',\n",
    "    'TiO2':  'wt%',\n",
    "    'Al2O3': 'wt%',\n",
    "    'TFe2O3':'wt%',\n",
    "    'MnO':   'wt%',\n",
    "    'MgO':   'wt%',\n",
    "    'CaO':   'wt%',\n",
    "    'Na2O':  'wt%',\n",
    "    'K2O':   'wt%',\n",
    "    'P2O5':  'wt%',\n",
    "    # Trace elements (ppm)\n",
    "    'Rb':  'ppm',  'Sr':  'ppm',  'Y':   'ppm',  'Zr':  'ppm',\n",
    "    'Nb':  'ppm',  'Ba':  'ppm',  'La':  'ppm',  'Ce':  'ppm',\n",
    "    'Pr':  'ppm',  'Nd':  'ppm',  'Sm':  'ppm',  'Eu':  'ppm',\n",
    "    'Gd':  'ppm',  'Tb':  'ppm',  'Dy':  'ppm',  'Ho':  'ppm',\n",
    "    'Er':  'ppm',  'Tm':  'ppm',  'Yb':  'ppm',  'Lu':  'ppm',\n",
    "    'Hf':  'ppm',  'Ta':  'ppm',  'Th':  'ppm',  'U':   'ppm'\n",
    "}\n",
    "\n",
    "# 2. 为每一列设置 attrs['unit']\n",
    "for col, unit in expected_units.items():\n",
    "    if col in df.columns:\n",
    "        df[col].attrs['unit'] = unit\n",
    "\n",
    "# 3. 验证设置是否成功\n",
    "for col in expected_units:\n",
    "    if col in df.columns:\n",
    "        print(f\"{col}: unit = {df[col].attrs.get('unit')}\")"
   ]
  },
  {
   "cell_type": "markdown",
   "id": "a8e7d503",
   "metadata": {},
   "source": [
    "## 数据校验（测试一到几种）"
   ]
  },
  {
   "cell_type": "code",
   "execution_count": 3,
   "id": "13109464",
   "metadata": {},
   "outputs": [
    {
     "name": "stdout",
     "output_type": "stream",
     "text": [
      "Schema valid: True\n",
      "Error location: {}\n",
      "Info: 所有列 dtype 与预期一致\n"
     ]
    }
   ],
   "source": [
    "from data_preprocessing.validator import verify_dtype\n",
    "\n",
    "valid, error_location, info = verify_dtype(df, {\"SiO2\": \"float64\",})\n",
    "\n",
    "print(f\"Schema valid: {valid}\")\n",
    "print(f\"Error location: {error_location}\")\n",
    "print(f\"Info: {info}\")"
   ]
  },
  {
   "cell_type": "code",
   "execution_count": 4,
   "id": "d2c509b6",
   "metadata": {},
   "outputs": [
    {
     "name": "stdout",
     "output_type": "stream",
     "text": [
      "Schema valid: True\n",
      "Error location: {}\n",
      "Info: 所有列 unit 与预期一致\n"
     "name": "stdout",
     "output_type": "stream",
     "text": [
      "Schema valid: True\n",
      "Error location: {}\n",
      "Info: 所有列 unit 与预期一致\n"
     ]
    }
   ],
   "source": [
    "from data_preprocessing.validator import verify_units\n",
    "\n",
    "valid, error_location, info = verify_units(df, {\"SiO2\": 'wt%',})\n",
    "\n",
    "print(f\"Schema valid: {valid}\")\n",
    "print(f\"Error location: {error_location}\")\n",
    "print(f\"Info: {info}\")"
   ]
  },
  {
   "cell_type": "markdown",
   "id": "6e432339",
   "metadata": {},
   "source": [
    "## 缺失值处理"
   ]
  },
  {
   "cell_type": "code",
   "execution_count": 7,
   "id": "c299c4d4",
   "metadata": {},
   "outputs": [
    {
     "name": "stdout",
     "output_type": "stream",
     "text": [
      "Missing values handled: Label      0\n",
      "Deposit    0\n",
      "SiO2       0\n",
      "TiO2       0\n",
      "Al2O3      0\n",
      "TFe2O3     0\n",
      "MnO        0\n",
      "MgO        0\n",
      "CaO        0\n",
      "Na2O       0\n",
      "K2O        0\n",
      "P2O5       0\n",
      "Rb         0\n",
      "Sr         0\n",
      "Y          0\n",
      "Zr         0\n",
      "Nb         0\n",
      "Ba         0\n",
      "La         0\n",
      "Ce         0\n",
      "Pr         0\n",
      "Nd         0\n",
      "Sm         0\n",
      "Eu         0\n",
      "Gd         0\n",
      "Tb         0\n",
      "Dy         0\n",
      "Ho         0\n",
      "Er         0\n",
      "Tm         0\n",
      "Yb         0\n",
      "Lu         0\n",
      "Hf         0\n",
      "Ta         0\n",
      "Th         0\n",
      "U          0\n",
      "dtype: int64\n",
      "Info: 缺失值处理完成，使用方法: zero\n"
     ]
    }
   ],
   "source": [
    "from data_preprocessing.validator import handle_missing_values\n",
    "\n",
    "df_miss, info = handle_missing_values(df, method='zero')\n",
    "\n",
    "print(f\"Missing values handled: {df_miss.isnull().sum()}\")\n",
    "print(f\"Info: {info}\")"
   ]
  },
  {
   "cell_type": "markdown",
   "id": "2900c3a6",
   "metadata": {},
   "source": [
    "## CLR 变换"
   ]
  },
  {
   "cell_type": "code",
   "execution_count": 8,
   "id": "7031cd87",
   "metadata": {},
   "outputs": [
    {
     "name": "stdout",
     "output_type": "stream",
     "text": [
      "CLR transformed data:           Label           Deposit  clr_SiO2  clr_TiO2  clr_Al2O3  clr_TFe2O3  \\\n",
      "0  Au-rich PCDs  Oyu Tolgoi Cu-Au  0.016901  0.339762   0.111819    0.373189   \n",
      "1  Au-rich PCDs  Oyu Tolgoi Cu-Au -0.112769  0.305860   0.100071    0.335377   \n",
      "2  Au-rich PCDs  Oyu Tolgoi Cu-Au -0.018441 -0.258075   0.032564    0.018368   \n",
      "3  Au-rich PCDs  Oyu Tolgoi Cu-Au  0.013223 -0.320596   0.008188   -0.008444   \n",
      "4  Au-rich PCDs  Oyu Tolgoi Cu-Au  0.001641 -0.199235   0.076728    0.007729   \n",
      "CLR transformed data:           Label           Deposit  clr_SiO2  clr_TiO2  clr_Al2O3  clr_TFe2O3  \\\n",
      "0  Au-rich PCDs  Oyu Tolgoi Cu-Au  0.016901  0.339762   0.111819    0.373189   \n",
      "1  Au-rich PCDs  Oyu Tolgoi Cu-Au -0.112769  0.305860   0.100071    0.335377   \n",
      "2  Au-rich PCDs  Oyu Tolgoi Cu-Au -0.018441 -0.258075   0.032564    0.018368   \n",
      "3  Au-rich PCDs  Oyu Tolgoi Cu-Au  0.013223 -0.320596   0.008188   -0.008444   \n",
      "4  Au-rich PCDs  Oyu Tolgoi Cu-Au  0.001641 -0.199235   0.076728    0.007729   \n",
      "\n",
      "    clr_MnO   clr_MgO   clr_CaO  clr_Na2O   clr_K2O  clr_P2O5  \n",
      "0  0.912696  0.045828  0.221817  0.269416  0.284446  0.413971  \n",
      "1  1.372228  0.012602  0.371920  0.377213  0.284446  0.531754  \n",
      "2  0.507230 -0.694151 -0.463648  0.267382  0.519657 -0.199133  \n",
      "3  0.730374 -0.615162 -0.458559  0.283544  0.355354 -0.279176  \n",
      "4 -0.185917 -0.577891 -0.666589  0.400659  0.473137 -0.279176  \n",
      "    clr_MnO   clr_MgO   clr_CaO  clr_Na2O   clr_K2O  clr_P2O5  \n",
      "0  0.912696  0.045828  0.221817  0.269416  0.284446  0.413971  \n",
      "1  1.372228  0.012602  0.371920  0.377213  0.284446  0.531754  \n",
      "2  0.507230 -0.694151 -0.463648  0.267382  0.519657 -0.199133  \n",
      "3  0.730374 -0.615162 -0.458559  0.283544  0.355354 -0.279176  \n",
      "4 -0.185917 -0.577891 -0.666589  0.400659  0.473137 -0.279176  \n",
      "Info: CLR 变换完成\n"
     ]
    }
   ],
   "source": [
    "from data_preprocessing.transform import clr_transform\n",
    "\n",
    "df_clr, info = clr_transform(df, [\"SiO2\", \"TiO2\", \"Al2O3\", \"TFe2O3\", \"MnO\", \"MgO\", \"CaO\", \"Na2O\", \"K2O\", \"P2O5\"])\n",
    "print(f\"CLR transformed data: {df_clr.head()}\")\n",
    "print(f\"Info: {info}\")"
   ]
  },
  {
   "cell_type": "markdown",
   "id": "6b31117d",
   "metadata": {},
   "source": [
    "## 异常值标记"
   ]
  },
  {
   "cell_type": "code",
   "execution_count": 9,
   "id": "2e220664",
   "metadata": {},
   "outputs": [
    {
     "name": "stdout",
     "output_type": "stream",
     "text": [
      "Outliers flagged:             Label                       Deposit  clr_SiO2  clr_TiO2  \\\n",
      "7    Au-rich PCDs                 Almalyk Cu-Au  0.080321 -0.921369   \n",
      "16   Au-rich PCDs                 Almalyk Cu-Au -0.117308  0.157440   \n",
      "17   Au-rich PCDs                 Almalyk Cu-Au  0.082902 -0.663540   \n",
      "60   Au-rich PCDs                  Pulang Cu-Au  0.062211  0.177243   \n",
      "89   Au-rich PCDs               Bozshakol Cu-Au  0.157255 -0.458746   \n",
      "104  Au-rich PCDs         Schaft Creek Cu-Mo-Au  0.038541 -0.228222   \n",
      "110  Au-rich PCDs  Duobaoshan-Tongshan Cu-Au-Mo  0.106396 -0.921369   \n",
      "114  Au-rich PCDs  Duobaoshan-Tongshan Cu-Au-Mo  0.083761 -0.864211   \n",
      "121  Au-rich PCDs  Duobaoshan-Tongshan Cu-Au-Mo  0.068768 -0.619089   \n",
      "123  Au-rich PCDs  Duobaoshan-Tongshan Cu-Au-Mo  0.044809 -0.576529   \n",
      "124  Au-rich PCDs  Duobaoshan-Tongshan Cu-Au-Mo  0.041232 -0.535707   \n",
      "129  Au-rich PCDs                  Koksai Cu-Au  0.098672  0.029607   \n",
      "141  Au-rich PCDs              Xiongcun I Cu-Au  0.060894 -0.143665   \n",
      "142  Au-rich PCDs              Xiongcun I Cu-Au  0.069349 -0.065703   \n",
      "143  Au-rich PCDs              Xiongcun I Cu-Au  0.067169 -0.258075   \n",
      "144  Au-rich PCDs              Xiongcun I Cu-Au  0.081038 -0.171064   \n",
      "145  Au-rich PCDs              Xiongcun I Cu-Au  0.019804 -0.116997   \n",
      "146  Au-rich PCDs              Xiongcun I Cu-Au  0.041978 -0.041011   \n",
      "184  Cu-rich PCDs                    Aktogai Cu  0.140903 -0.228222   \n",
      "206  Cu-rich PCDs               Tuwu-Yandong Cu  0.146294 -0.864211   \n",
      "210  Cu-rich PCDs            Wunugetushan Cu-Mo  0.073839 -0.143665   \n",
      "211  Cu-rich PCDs            Wunugetushan Cu-Mo  0.091883 -0.091021   \n",
      "212  Cu-rich PCDs            Wunugetushan Cu-Mo  0.086618 -0.041011   \n",
      "219  Cu-rich PCDs            Wunugetushan Cu-Mo  0.176088 -0.864211   \n",
      "240  Cu-rich PCDs             Jebel Ohier Cu-Au  0.078165  0.052080   \n",
      "243  Cu-rich PCDs             Jebel Ohier Cu-Au -0.185351  1.387081   \n",
      "250  Cu-rich PCDs             Jebel Ohier Cu-Au  0.125927 -0.288847   \n",
      "313  Cu-rich PCDs         Tsagaan Suvarga Cu-Mo  0.099940 -0.864211   \n",
      "314  Cu-rich PCDs         Tsagaan Suvarga Cu-Mo  0.133034 -1.189633   \n",
      "355  Cu-rich PCDs                 Shujiadian Cu -0.053929  0.339762   \n",
      "356  Cu-rich PCDs                 Shujiadian Cu -0.077186  0.339762   \n",
      "357  Cu-rich PCDs                 Shujiadian Cu -0.089020  0.157440   \n",
      "376  Cu-rich PCDs                 Baogutu Cu-Mo -0.070152  0.664258   \n",
      "417  Cu-rich PCDs                   Borly Cu-Mo  0.060162  0.157440   \n",
      "442  Cu-rich PCDs                   Yuhai Cu-Mo -0.005843 -0.171064   \n",
      "443  Cu-rich PCDs                   Yuhai Cu-Mo  0.002107  0.006617   \n",
      "\n",
      "     clr_Al2O3  clr_TFe2O3    clr_MnO   clr_MgO   clr_CaO  clr_Na2O  ...  \\\n",
      "7    -0.425114    0.896918  -0.185917 -0.495974 -1.935100 -1.585257  ...   \n",
      "16   -0.060101    0.905671   0.373699  0.719172 -0.881950 -2.265501  ...   \n",
      "17   -0.222542   -0.734743   0.037227 -0.615162 -1.198468 -2.561767  ...   \n",
      "60   -0.259744    0.163407  -1.572211  0.272885 -1.116790 -0.508527  ...   \n",
      "89   -0.139098   -1.547079  -0.879064 -0.653877 -2.004093 -0.002136  ...   \n",
      "104  -0.013641   -0.310724 -17.690307 -0.050136 -0.147051  0.386296  ...   \n",
      "110  -0.050896   -1.509807 -17.690307 -1.321049 -2.650720  0.164507  ...   \n",
      "114  -0.044373   -1.891175  -0.473599 -1.401091 -0.147051  0.326688  ...   \n",
      "121  -0.295873   -0.105386   0.219548  0.019336  0.683106 -1.323892  ...   \n",
      "123  -0.371397    0.261418   0.625014  0.168681  0.674970 -0.799164  ...   \n",
      "124  -0.235839    0.047053   0.373699  0.077985  0.641744 -0.905182  ...   \n",
      "129   0.016787   -0.696171  -0.879064 -0.302479 -2.409558 -0.747279  ...   \n",
      "141  -0.113691    0.627385   1.828986  0.474975 -1.522255 -2.215490  ...   \n",
      "142   0.096689   -0.135783   0.037227 -0.615162 -2.445926 -2.167862  ...   \n",
      "143  -0.179950    0.760557   2.505326  0.709122 -1.664225 -2.561767  ...   \n",
      "144  -0.158586    0.555820   0.219548 -0.890266 -1.849942 -2.240183  ...   \n",
      "145  -0.027609    0.650146   1.518831 -0.071955 -1.253126 -2.463326  ...   \n",
      "146   0.013111    0.566581   0.219548 -0.627901 -1.771471 -2.191393  ...   \n",
      "184  -0.165902   -0.828930  -0.879064 -0.094261 -2.078201 -0.120920  ...   \n",
      "206  -0.246128   -0.633323  -0.473599 -0.553793  0.090120 -2.240183  ...   \n",
      "210  -0.001732   -0.435888  -1.572211 -2.682025 -0.881950  0.180185  ...   \n",
      "211  -0.078768   -0.419358 -17.690307 -1.458250 -0.836488  0.230033  ...   \n",
      "212  -0.089593   -0.583808  -1.572211 -1.033367 -0.679168  0.281538  ...   \n",
      "219  -0.366001   -1.473875  -0.473599 -1.092790 -1.537070 -1.201675  ...   \n",
      "240   0.110149   -0.734743  -1.572211 -1.849116 -2.563709 -1.375185  ...   \n",
      "243   0.076152    0.915427   1.066846  1.006854  0.844409 -0.002136  ...   \n",
      "250   0.019841   -0.892646  -0.879064 -0.924167 -3.176813 -3.221012  ...   \n",
      "313  -0.047629   -1.225179  -0.879064 -1.726514 -3.343867 -0.521891  ...   \n",
      "314  -0.136243   -2.202954  -0.879064 -2.419661 -2.908549 -0.334351  ...   \n",
      "355   0.073266    0.337302 -17.690307  0.151188  0.298492  0.244724  ...   \n",
      "356   0.043938    0.393392 -17.690307  0.208347  0.389464  0.087095  ...   \n",
      "357   0.037968    0.411410 -17.690307  0.208347  0.345012  0.087095  ...   \n",
      "376   0.116812   -0.618209  -0.473599  1.191257  0.923921  0.234252  ...   \n",
      "417   0.039165   -0.186427  -0.879064 -0.035850 -2.340565 -0.372234  ...   \n",
      "442   0.053417    0.380583   1.135839  0.162884  0.629849  0.096804  ...   \n",
      "443   0.033767    0.292063   1.318161  0.151188  0.562686  0.246805  ...   \n",
      "\n",
      "     outlier_clr_SiO2  outlier_clr_TiO2  outlier_clr_Al2O3  \\\n",
      "7               False             False               True   \n",
      "16              False             False              False   \n",
      "17              False             False              False   \n",
      "60              False             False               True   \n",
      "89              False             False              False   \n",
      "104             False             False              False   \n",
      "110             False             False              False   \n",
      "114             False             False              False   \n",
      "121             False             False               True   \n",
      "123             False             False               True   \n",
      "124             False             False               True   \n",
      "129             False             False              False   \n",
      "141             False             False              False   \n",
      "142             False             False              False   \n",
      "143             False             False              False   \n",
      "144             False             False              False   \n",
      "145             False             False              False   \n",
      "146             False             False              False   \n",
      "184             False             False              False   \n",
      "206             False             False               True   \n",
      "210             False             False              False   \n",
      "211             False             False              False   \n",
      "212             False             False              False   \n",
      "219             False             False               True   \n",
      "240             False             False              False   \n",
      "243             False              True              False   \n",
      "250             False             False              False   \n",
      "313             False             False              False   \n",
      "314             False             False              False   \n",
      "355             False             False              False   \n",
      "356             False             False              False   \n",
      "357             False             False              False   \n",
      "376             False             False              False   \n",
      "417             False             False              False   \n",
      "442             False             False              False   \n",
      "443             False             False              False   \n",
      "\n",
      "     outlier_clr_TFe2O3  outlier_clr_MnO  outlier_clr_MgO  outlier_clr_CaO  \\\n",
      "7                 False            False            False            False   \n",
      "16                False            False            False            False   \n",
      "17                False            False            False            False   \n",
      "60                False            False            False            False   \n",
      "89                False            False            False            False   \n",
      "104               False             True            False            False   \n",
      "110               False             True            False             True   \n",
      "114                True            False            False            False   \n",
      "121               False            False            False            False   \n",
      "123               False            False            False            False   \n",
      "124               False            False            False            False   \n",
      "129               False            False            False             True   \n",
      "141               False            False            False            False   \n",
      "142               False            False            False             True   \n",
      "143               False            False            False            False   \n",
      "144               False            False            False            False   \n",
      "145               False            False            False            False   \n",
      "146               False            False            False            False   \n",
      "184               False            False            False             True   \n",
      "206               False            False            False            False   \n",
      "210               False            False             True            False   \n",
      "211               False             True            False            False   \n",
      "212               False            False            False            False   \n",
      "219               False            False            False            False   \n",
      "240               False            False            False             True   \n",
      "243               False            False            False            False   \n",
      "250               False            False            False             True   \n",
      "313               False            False            False             True   \n",
      "314                True            False             True             True   \n",
      "355               False             True            False            False   \n",
      "356               False             True            False            False   \n",
      "357               False             True            False            False   \n",
      "376               False            False            False            False   \n",
      "417               False            False            False             True   \n",
      "442               False            False            False            False   \n",
      "443               False            False            False            False   \n",
      "\n",
      "     outlier_clr_Na2O  outlier_clr_K2O  outlier_clr_P2O5  \n",
      "7                True            False             False  \n",
      "16               True            False             False  \n",
      "17               True            False             False  \n",
      "60              False            False             False  \n",
      "89              False            False              True  \n",
      "104             False            False             False  \n",
      "110             False            False             False  \n",
      "114             False            False             False  \n",
      "121             False            False             False  \n",
      "123             False            False             False  \n",
      "124             False            False             False  \n",
      "129             False            False             False  \n",
      "141              True            False             False  \n",
      "142              True            False              True  \n",
      "143              True            False             False  \n",
      "144              True            False              True  \n",
      "145              True            False             False  \n",
      "146              True            False             False  \n",
      "184             False            False             False  \n",
      "206              True            False             False  \n",
      "210             False            False             False  \n",
      "211             False            False              True  \n",
      "212             False            False              True  \n",
      "219             False            False             False  \n",
      "240             False            False             False  \n",
      "243             False            False             False  \n",
      "250              True            False              True  \n",
      "313             False            False             False  \n",
      "314             False            False              True  \n",
      "355             False            False             False  \n",
      "356             False            False             False  \n",
      "357             False            False             False  \n",
      "376             False             True             False  \n",
      "417             False            False             False  \n",
      "442             False             True             False  \n",
      "443             False             True             False  \n",
      "\n",
      "[36 rows x 22 columns]\n",
      "Number of outliers: 36\n",
      "Info: 异常值标记完成 (阈值: 3.0)\n"
     ]
    }
   ],
   "source": [
    "from data_preprocessing.validator import flag_outliers\n",
    "\n",
    "df_proc, info = flag_outliers(df_clr, z_thresh=3.0)\n",
    "# 找出所有 outlier 列名\n",
    "outlier_cols = [c for c in df_proc.columns if c.startswith('outlier_')]\n",
    "# 如果任意一列为 True，就保留该行\n",
    "mask = df_proc[outlier_cols].any(axis=1)\n",
    "# 应用掩码\n",
    "outliers = df_proc[mask]\n",
    "print(f\"Outliers flagged: {outliers}\")\n",
    "# 符合条件的行数\n",
    "print(f\"Number of outliers: {len(outliers)}\")\n",
    "print(f\"Info: {info}\")"
   ]
  },
  {
   "cell_type": "markdown",
   "id": "0cae6f55",
   "metadata": {},
   "source": [
    "## 可视化"
   ]
  },
  {
   "cell_type": "code",
   "execution_count": 10,
   "id": "3b659a71",
   "metadata": {},
   "outputs": [],
   "source": [
    "from visualization.plot import (\n",
    "    plot_scatter_matrix,\n",
    "    plot_correlation_heatmap,\n",
    "    plot_pca_biplot,\n",
    "    plot_ratio_diagrams\n",
    ")\n",
    "\n",
    "# 选择要可视化的 10 个元素\n",
    "elements = ['SiO2','TiO2','Al2O3','TFe2O3','MnO','MgO','CaO','Na2O','K2O','P2O5']\n",
    "\n",
    "# 1. Pair-wise Scatter-Matrix\n",
    "fig1 = plot_scatter_matrix(df_clr, elements, label_col='Label')\n",
    "fig1.savefig(\"../result/fig1_scatter_matrix.png\", dpi=300, bbox_inches='tight')\n",
    "\n",
    "# 2. Correlation Heat-map (Pearson & Spearman)\n",
    "fig2 = plot_correlation_heatmap(df_clr, elements, method='pearson')\n",
    "fig2.savefig(\"../result/fig2_heatmap_pearson.png\", dpi=300, bbox_inches='tight')\n",
    "\n",
    "fig3 = plot_correlation_heatmap(df_clr, elements, method='spearman')\n",
    "fig3.savefig(\"../result/fig3_heatmap_spearman.png\", dpi=300, bbox_inches='tight')\n",
    "\n",
    "# 3. PCA Bi-plot (PC1 vs PC2)\n",
    "fig4 = plot_pca_biplot(df_clr, elements, label_col='Label')\n",
    "fig4.savefig(\"../result/fig4_pca_biplot.png\", dpi=300, bbox_inches='tight')\n",
    "\n",
    "# 4. Geochemical Ratio Diagrams\n",
    "ratios = [('K2O','Na2O'), ('Sr','Y')]\n",
    "fig5 = plot_ratio_diagrams(df, ratios, against='SiO2')\n",
    "fig5.savefig(\"../result/fig5_ratio_diagrams.png\", dpi=300, bbox_inches='tight')"
   ]
  },
  {
   "cell_type": "markdown",
   "id": "1722e79e",
   "metadata": {},
   "source": [
    "## 单位统一"
   ]
  },
  {
   "cell_type": "code",
   "execution_count": 9,
   "id": "115893f6",
   "metadata": {},
   "outputs": [
    {
     "name": "stdout",
     "output_type": "stream",
     "text": [
      "所有单位均同一至 ppm\n"
     ]
    }
   ],
   "source": [
    "from data_preprocessing.transform import harmonise_units\n",
    "\n",
    "# 把所有 unit='wt%' 的列统一转换为 ppm\n",
    "df_ppm, info = harmonise_units(df, target_unit='ppm')\n",
    "\n",
    "print(info)\n",
    "# 查看转换后的单位属性\n",
    "for col in df_ppm.columns:\n",
    "    unit = df_ppm[col].attrs.get('unit', None)\n",
    "    if unit == 'ppm':\n",
    "        print(f\"Info: {col} now in {unit}\")"
   ]
  },
  {
   "cell_type": "markdown",
   "id": "f730d2cc",
   "metadata": {},
   "source": [
    "## 对数变换"
   ]
  },
  {
   "cell_type": "code",
   "execution_count": 10,
   "id": "e1afb1f1",
   "metadata": {},
   "outputs": [
    {
     "name": "stdout",
     "output_type": "stream",
     "text": [
      "对数变换完成\n",
      "     log_SiO2    log_Rb\n",
      "0    1.815378  1.808211\n",
      "1    1.759063  1.767898\n",
      "2    1.800029  1.838849\n",
      "3    1.813781  1.778151\n",
      "4    1.808751  1.845098\n",
      "..        ...       ...\n",
      "440  1.798374  0.799341\n",
      "441  1.801061  0.908485\n",
      "442  1.805501  0.602060\n",
      "443  1.808953  0.505150\n",
      "444  1.813581  1.220108\n",
      "\n",
      "[445 rows x 2 columns]\n"
     ]
    }
   ],
   "source": [
    "from data_preprocessing.transform import log_transform\n",
    "\n",
    "df_log, linfo = log_transform(df_ppm, cols=['SiO2', 'Rb'], base=10)\n",
    "print(linfo)\n",
    "print(df_log)"
   ]
  },
  {
   "cell_type": "markdown",
   "id": "238b4cb1",
   "metadata": {},
   "source": [
    "# Random Forest\n",
    "对CLR变换后和未变化的结果，同时进行随机森林分类（使用相同的树数量），并对比结果\n",
    "\n",
    "结果表明随机森林分类似乎对数据的对数变换不敏感。"
   ]
  },
  {
   "cell_type": "code",
   "execution_count": null,
   "id": "32042aa3",
   "metadata": {},
   "outputs": [
    {
     "name": "stdout",
     "output_type": "stream",
     "text": [
      "CLR 清理后的分类结果：\n",
      "               precision    recall  f1-score   support\n",
      "\n",
      "Au-rich PCDs       0.74      0.71      0.73        28\n",
      "Cu-rich PCDs       0.85      0.87      0.86        54\n",
      "\n",
      "    accuracy                           0.82        82\n",
      "   macro avg       0.80      0.79      0.79        82\n",
      "weighted avg       0.82      0.82      0.82        82\n",
      "\n",
      "CLR 未清理的分类结果：\n",
      "               precision    recall  f1-score   support\n",
      "\n",
      "Au-rich PCDs       0.84      0.90      0.87        29\n",
      "Cu-rich PCDs       0.95      0.92      0.93        60\n",
      "\n",
      "    accuracy                           0.91        89\n",
      "   macro avg       0.89      0.91      0.90        89\n",
      "weighted avg       0.91      0.91      0.91        89\n",
      "\n"
     ]
    }
   ],
   "source": [
    "import numpy as np\n",
    "from sklearn.ensemble import RandomForestClassifier\n",
    "from sklearn.model_selection import train_test_split\n",
    "from sklearn.metrics import classification_report\n",
    "\n",
    "X = df_finial.drop(['Label', 'Deposit'], axis=1)\n",
    "y = df_finial['Label']\n",
    "\n",
    "X_train, X_test, y_train, y_test = train_test_split(X, y, test_size=0.2, random_state=0)\n",
    "rf = RandomForestClassifier(n_estimators=3, random_state=0)\n",
    "rf.fit(X_train, y_train)\n",
    "y_pred = rf.predict(X_test)\n",
    "print('CLR 清理后的分类结果：\\n', classification_report(y_test, y_pred))\n",
    "\n",
    "X = df.drop(['Label', 'Deposit'], axis=1)\n",
    "y = df['Label']\n",
    "X_train, X_test, y_train, y_test = train_test_split(X, y, test_size=0.2, random_state=0)\n",
    "rf = RandomForestClassifier(n_estimators=3, random_state=0)\n",
    "rf.fit(X_train, y_train)\n",
    "y_pred = rf.predict(X_test)\n",
    "print('CLR 未清理的分类结果：\\n', classification_report(y_test, y_pred))"
   ]
  },
  {
   "cell_type": "markdown",
   "id": "55a75807",
   "metadata": {},
   "source": [
    "确定最佳树的数量，树越多，模型越稳定，但计算成本越高。此外树太少可能欠拟合，太多可能过拟合，影响模型性能。\n",
    "\n",
    "根据验证误差曲线选择24颗树最合适，此时训练集和验证集的误差都不再下降，是合理的选择。"
   ]
  },
  {
   "cell_type": "code",
   "execution_count": 12,
   "id": "0e33c792",
   "metadata": {},
   "outputs": [
    {
     "name": "stdout",
     "output_type": "stream",
     "text": [
      "Optimal number of trees: 13\n",
      "Minimum validation error: 0.2854\n"
     ]
    },
    {
     "data": {
      "image/png": "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",
      "text/plain": [
       "<Figure size 1000x600 with 1 Axes>"
      ]
     },
     "metadata": {},
     "output_type": "display_data"
    }
   ],
   "source": [
    "import matplotlib.pyplot as plt\n",
    "from sklearn.ensemble import RandomForestClassifier\n",
    "from sklearn.model_selection import cross_val_score\n",
    "from sklearn.metrics import accuracy_score\n",
    "\n",
    "# 定义要测试的树的数量范围\n",
    "n_trees = range(1, 101, 1)\n",
    "\n",
    "# 存储训练和验证分数\n",
    "train_scores = []\n",
    "val_scores = []\n",
    "\n",
    "# 对每个树的数量进行测试\n",
    "for n in n_trees:\n",
    "    # 创建随机森林分类器\n",
    "    rf = RandomForestClassifier(n_estimators=n, random_state=0)\n",
    "    \n",
    "    # 使用交叉验证计算验证分数\n",
    "    val_score = cross_val_score(rf, X, y, cv=5, scoring='accuracy').mean()\n",
    "    val_scores.append(1 - val_score)  # 转换为误差\n",
    "    \n",
    "    # 在训练集上训练并计算训练分数\n",
    "    rf.fit(X, y)\n",
    "    train_pred = rf.predict(X)\n",
    "    train_score = accuracy_score(y, train_pred)\n",
    "    train_scores.append(1 - train_score)  # 转换为误差\n",
    "\n",
    "# 绘制误差曲线\n",
    "plt.figure(figsize=(10, 6))\n",
    "plt.plot(n_trees, train_scores, label='Training Error', marker='o', markersize=2)\n",
    "plt.plot(n_trees, val_scores, label='Validation Error', marker='o', markersize=2)\n",
    "plt.xlabel('Number of Trees')\n",
    "plt.ylabel('Error Rate')\n",
    "plt.title('Random Forest: Error Rate vs. Number of Trees')\n",
    "plt.legend()\n",
    "plt.grid(True)\n",
    "\n",
    "# 打印最佳树的数量\n",
    "best_n = n_trees[np.argmin(val_scores)]\n",
    "print(f'Optimal number of trees: {best_n}')\n",
    "print(f'Minimum validation error: {min(val_scores):.4f}')"
   ]
  },
  {
   "cell_type": "markdown",
   "id": "cf65bb5f",
   "metadata": {},
   "source": [
    "# SVM with RBF kernel"
   ]
  },
  {
   "cell_type": "code",
   "execution_count": 13,
   "id": "028ccc4e",
   "metadata": {},
   "outputs": [
    {
     "ename": "InvalidParameterError",
     "evalue": "The 'normalize' parameter of confusion_matrix must be a str among {'true', 'all', 'pred'} or None. Got ['all'] instead.",
     "output_type": "error",
     "traceback": [
      "\u001b[1;31m---------------------------------------------------------------------------\u001b[0m",
      "\u001b[1;31mInvalidParameterError\u001b[0m                     Traceback (most recent call last)",
      "Cell \u001b[1;32mIn[13], line 6\u001b[0m\n\u001b[0;32m      3\u001b[0m X \u001b[38;5;241m=\u001b[39m df_clr\u001b[38;5;241m.\u001b[39mdrop([\u001b[38;5;124m'\u001b[39m\u001b[38;5;124mLabel\u001b[39m\u001b[38;5;124m'\u001b[39m, \u001b[38;5;124m'\u001b[39m\u001b[38;5;124mDeposit\u001b[39m\u001b[38;5;124m'\u001b[39m], axis\u001b[38;5;241m=\u001b[39m\u001b[38;5;241m1\u001b[39m)\n\u001b[0;32m      4\u001b[0m y \u001b[38;5;241m=\u001b[39m df_clr[\u001b[38;5;124m'\u001b[39m\u001b[38;5;124mLabel\u001b[39m\u001b[38;5;124m'\u001b[39m]\n\u001b[1;32m----> 6\u001b[0m SVM_model, SVM_results \u001b[38;5;241m=\u001b[39m \u001b[43mtrain_svm_classifier\u001b[49m\u001b[43m(\u001b[49m\u001b[43mX\u001b[49m\u001b[43m,\u001b[49m\u001b[43m \u001b[49m\u001b[43my\u001b[49m\u001b[43m,\u001b[49m\u001b[43m \u001b[49m\u001b[43mtest_size\u001b[49m\u001b[38;5;241;43m=\u001b[39;49m\u001b[38;5;241;43m0.2\u001b[39;49m\u001b[43m,\u001b[49m\u001b[43m \u001b[49m\u001b[43mrandom_state\u001b[49m\u001b[38;5;241;43m=\u001b[39;49m\u001b[38;5;241;43m0\u001b[39;49m\u001b[43m)\u001b[49m\n\u001b[0;32m      7\u001b[0m \u001b[38;5;28mprint\u001b[39m(\u001b[38;5;124mf\u001b[39m\u001b[38;5;124m\"\u001b[39m\u001b[38;5;124mSVM classifier: \u001b[39m\u001b[38;5;132;01m{\u001b[39;00mSVM_model\u001b[38;5;132;01m}\u001b[39;00m\u001b[38;5;124m\"\u001b[39m)\n\u001b[0;32m      8\u001b[0m \u001b[38;5;28mprint\u001b[39m(SVM_results[\u001b[38;5;124m\"\u001b[39m\u001b[38;5;124mclassification_report\u001b[39m\u001b[38;5;124m\"\u001b[39m])\n",
      "File \u001b[1;32md:\\Project\\data-science-project\\code\\modeling\\svm_classifier.py:55\u001b[0m, in \u001b[0;36mtrain_svm_classifier\u001b[1;34m(X, y, test_size, random_state)\u001b[0m\n\u001b[0;32m     48\u001b[0m y_pred \u001b[38;5;241m=\u001b[39m best_model\u001b[38;5;241m.\u001b[39mpredict(X_test_scaled)\n\u001b[0;32m     50\u001b[0m \u001b[38;5;66;03m# 计算评估指标\u001b[39;00m\n\u001b[0;32m     51\u001b[0m results \u001b[38;5;241m=\u001b[39m {\n\u001b[0;32m     52\u001b[0m     \u001b[38;5;124m'\u001b[39m\u001b[38;5;124mbest_params\u001b[39m\u001b[38;5;124m'\u001b[39m: grid_search\u001b[38;5;241m.\u001b[39mbest_params_,\n\u001b[0;32m     53\u001b[0m     \u001b[38;5;124m'\u001b[39m\u001b[38;5;124mbest_score\u001b[39m\u001b[38;5;124m'\u001b[39m: grid_search\u001b[38;5;241m.\u001b[39mbest_score_,\n\u001b[0;32m     54\u001b[0m     \u001b[38;5;124m'\u001b[39m\u001b[38;5;124mclassification_report\u001b[39m\u001b[38;5;124m'\u001b[39m: classification_report(y_test, y_pred),\n\u001b[1;32m---> 55\u001b[0m     \u001b[38;5;124m'\u001b[39m\u001b[38;5;124mconfusion_matrix\u001b[39m\u001b[38;5;124m'\u001b[39m: \u001b[43mconfusion_matrix\u001b[49m\u001b[43m(\u001b[49m\u001b[43my_test\u001b[49m\u001b[43m,\u001b[49m\u001b[43m \u001b[49m\u001b[43my_pred\u001b[49m\u001b[43m,\u001b[49m\u001b[43m \u001b[49m\u001b[43mnormalize\u001b[49m\u001b[38;5;241;43m=\u001b[39;49m\u001b[43m[\u001b[49m\u001b[38;5;124;43m\"\u001b[39;49m\u001b[38;5;124;43mall\u001b[39;49m\u001b[38;5;124;43m\"\u001b[39;49m\u001b[43m]\u001b[49m\u001b[43m,\u001b[49m\u001b[43m \u001b[49m\u001b[43mlabels\u001b[49m\u001b[38;5;241;43m=\u001b[39;49m\u001b[43m[\u001b[49m\u001b[38;5;124;43m\"\u001b[39;49m\u001b[38;5;124;43mCu\u001b[39;49m\u001b[38;5;124;43m\"\u001b[39;49m\u001b[43m,\u001b[49m\u001b[43m \u001b[49m\u001b[38;5;124;43m\"\u001b[39;49m\u001b[38;5;124;43mAu\u001b[39;49m\u001b[38;5;124;43m\"\u001b[39;49m\u001b[43m]\u001b[49m\u001b[43m)\u001b[49m,\n\u001b[0;32m     56\u001b[0m     \u001b[38;5;124m'\u001b[39m\u001b[38;5;124mtest_accuracy\u001b[39m\u001b[38;5;124m'\u001b[39m: best_model\u001b[38;5;241m.\u001b[39mscore(X_test_scaled, y_test)\n\u001b[0;32m     57\u001b[0m }\n\u001b[0;32m     59\u001b[0m \u001b[38;5;28;01mreturn\u001b[39;00m best_model, results\n",
      "File \u001b[1;32md:\\CondaEnvs\\openmmlab\\Lib\\site-packages\\sklearn\\utils\\_param_validation.py:206\u001b[0m, in \u001b[0;36mvalidate_params.<locals>.decorator.<locals>.wrapper\u001b[1;34m(*args, **kwargs)\u001b[0m\n\u001b[0;32m    203\u001b[0m to_ignore \u001b[38;5;241m+\u001b[39m\u001b[38;5;241m=\u001b[39m [\u001b[38;5;124m\"\u001b[39m\u001b[38;5;124mself\u001b[39m\u001b[38;5;124m\"\u001b[39m, \u001b[38;5;124m\"\u001b[39m\u001b[38;5;124mcls\u001b[39m\u001b[38;5;124m\"\u001b[39m]\n\u001b[0;32m    204\u001b[0m params \u001b[38;5;241m=\u001b[39m {k: v \u001b[38;5;28;01mfor\u001b[39;00m k, v \u001b[38;5;129;01min\u001b[39;00m params\u001b[38;5;241m.\u001b[39marguments\u001b[38;5;241m.\u001b[39mitems() \u001b[38;5;28;01mif\u001b[39;00m k \u001b[38;5;129;01mnot\u001b[39;00m \u001b[38;5;129;01min\u001b[39;00m to_ignore}\n\u001b[1;32m--> 206\u001b[0m \u001b[43mvalidate_parameter_constraints\u001b[49m\u001b[43m(\u001b[49m\n\u001b[0;32m    207\u001b[0m \u001b[43m    \u001b[49m\u001b[43mparameter_constraints\u001b[49m\u001b[43m,\u001b[49m\u001b[43m \u001b[49m\u001b[43mparams\u001b[49m\u001b[43m,\u001b[49m\u001b[43m \u001b[49m\u001b[43mcaller_name\u001b[49m\u001b[38;5;241;43m=\u001b[39;49m\u001b[43mfunc\u001b[49m\u001b[38;5;241;43m.\u001b[39;49m\u001b[38;5;18;43m__qualname__\u001b[39;49m\n\u001b[0;32m    208\u001b[0m \u001b[43m\u001b[49m\u001b[43m)\u001b[49m\n\u001b[0;32m    210\u001b[0m \u001b[38;5;28;01mtry\u001b[39;00m:\n\u001b[0;32m    211\u001b[0m     \u001b[38;5;28;01mwith\u001b[39;00m config_context(\n\u001b[0;32m    212\u001b[0m         skip_parameter_validation\u001b[38;5;241m=\u001b[39m(\n\u001b[0;32m    213\u001b[0m             prefer_skip_nested_validation \u001b[38;5;129;01mor\u001b[39;00m global_skip_validation\n\u001b[0;32m    214\u001b[0m         )\n\u001b[0;32m    215\u001b[0m     ):\n",
      "File \u001b[1;32md:\\CondaEnvs\\openmmlab\\Lib\\site-packages\\sklearn\\utils\\_param_validation.py:98\u001b[0m, in \u001b[0;36mvalidate_parameter_constraints\u001b[1;34m(parameter_constraints, params, caller_name)\u001b[0m\n\u001b[0;32m     92\u001b[0m \u001b[38;5;28;01melse\u001b[39;00m:\n\u001b[0;32m     93\u001b[0m     constraints_str \u001b[38;5;241m=\u001b[39m (\n\u001b[0;32m     94\u001b[0m         \u001b[38;5;124mf\u001b[39m\u001b[38;5;124m\"\u001b[39m\u001b[38;5;132;01m{\u001b[39;00m\u001b[38;5;124m'\u001b[39m\u001b[38;5;124m, \u001b[39m\u001b[38;5;124m'\u001b[39m\u001b[38;5;241m.\u001b[39mjoin([\u001b[38;5;28mstr\u001b[39m(c)\u001b[38;5;250m \u001b[39m\u001b[38;5;28;01mfor\u001b[39;00m\u001b[38;5;250m \u001b[39mc\u001b[38;5;250m \u001b[39m\u001b[38;5;129;01min\u001b[39;00m\u001b[38;5;250m \u001b[39mconstraints[:\u001b[38;5;241m-\u001b[39m\u001b[38;5;241m1\u001b[39m]])\u001b[38;5;132;01m}\u001b[39;00m\u001b[38;5;124m or\u001b[39m\u001b[38;5;124m\"\u001b[39m\n\u001b[0;32m     95\u001b[0m         \u001b[38;5;124mf\u001b[39m\u001b[38;5;124m\"\u001b[39m\u001b[38;5;124m \u001b[39m\u001b[38;5;132;01m{\u001b[39;00mconstraints[\u001b[38;5;241m-\u001b[39m\u001b[38;5;241m1\u001b[39m]\u001b[38;5;132;01m}\u001b[39;00m\u001b[38;5;124m\"\u001b[39m\n\u001b[0;32m     96\u001b[0m     )\n\u001b[1;32m---> 98\u001b[0m \u001b[38;5;28;01mraise\u001b[39;00m InvalidParameterError(\n\u001b[0;32m     99\u001b[0m     \u001b[38;5;124mf\u001b[39m\u001b[38;5;124m\"\u001b[39m\u001b[38;5;124mThe \u001b[39m\u001b[38;5;132;01m{\u001b[39;00mparam_name\u001b[38;5;132;01m!r}\u001b[39;00m\u001b[38;5;124m parameter of \u001b[39m\u001b[38;5;132;01m{\u001b[39;00mcaller_name\u001b[38;5;132;01m}\u001b[39;00m\u001b[38;5;124m must be\u001b[39m\u001b[38;5;124m\"\u001b[39m\n\u001b[0;32m    100\u001b[0m     \u001b[38;5;124mf\u001b[39m\u001b[38;5;124m\"\u001b[39m\u001b[38;5;124m \u001b[39m\u001b[38;5;132;01m{\u001b[39;00mconstraints_str\u001b[38;5;132;01m}\u001b[39;00m\u001b[38;5;124m. Got \u001b[39m\u001b[38;5;132;01m{\u001b[39;00mparam_val\u001b[38;5;132;01m!r}\u001b[39;00m\u001b[38;5;124m instead.\u001b[39m\u001b[38;5;124m\"\u001b[39m\n\u001b[0;32m    101\u001b[0m )\n",
      "\u001b[1;31mInvalidParameterError\u001b[0m: The 'normalize' parameter of confusion_matrix must be a str among {'true', 'all', 'pred'} or None. Got ['all'] instead."
     ]
    }
   ],
   "source": [
    "from modeling.svm_classifier import train_svm_classifier, classification_report\n",
    "\n",
    "X = df_clr.drop(['Label', 'Deposit'], axis=1)\n",
    "y = df_clr['Label']\n",
    "\n",
    "SVM_model, SVM_results = train_svm_classifier(X, y, test_size=0.2, random_state=0)\n",
    "print(f\"SVM classifier: {SVM_model}\")\n",
    "print(SVM_results[\"classification_report\"])\n",
    "\n",
    "import seaborn as sns\n",
    "plt.figure(figsize=(8, 6))\n",
    "confusion_matrix = SVM_results[\"confusion_matrix\"]\n",
    "# 将混淆矩阵转换为百分比\n",
    "confusion_matrix_percent = confusion_matrix / confusion_matrix.sum(axis=1).reshape(-1, 1)\n",
    "sns.heatmap(confusion_matrix_percent, annot=True, fmt='.2', cmap='Blues', xticklabels=[\"Cu\", \"Au\"], yticklabels=[\"Cu\", \"Au\"])"
   ]
  }
 ],
 "metadata": {
  "kernelspec": {
   "display_name": "datamining",
   "language": "python",
   "name": "python3"
  },
  "language_info": {
   "codemirror_mode": {
    "name": "ipython",
    "version": 3
   },
   "file_extension": ".py",
   "mimetype": "text/x-python",
   "name": "python",
   "nbconvert_exporter": "python",
   "pygments_lexer": "ipython3",
   "version": "3.10.16"
  }
 },
 "nbformat": 4,
 "nbformat_minor": 5
}
