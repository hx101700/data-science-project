{
 "cells": [
  {
   "cell_type": "markdown",
   "id": "6844807d",
   "metadata": {},
   "source": [
    "# COMMON TOOLS FOR DATA SCIENCE"
   ]
  },
  {
   "cell_type": "markdown",
   "id": "b36bd3bd",
   "metadata": {},
   "source": [
    "## 读取数据"
   ]
  },
  {
   "cell_type": "code",
   "execution_count": 2,
   "id": "d53b90e5",
   "metadata": {},
   "outputs": [
    {
     "name": "stdout",
     "output_type": "stream",
     "text": [
      "CSV文件 ../executable/2025-Project-Data(ESM Table 1).csv 读取成功\n"
     ]
    }
   ],
   "source": [
    "from data_preprocessing.loader import load_data\n",
    "\n",
    "df, info = load_data(r'../executable/2025-Project-Data(ESM Table 1).csv')\n",
    "print(info)"
   ]
  }
 ],
 "metadata": {
  "kernelspec": {
   "display_name": "openmmlab",
   "language": "python",
   "name": "openmmlab"
  },
  "language_info": {
   "codemirror_mode": {
    "name": "ipython",
    "version": 3
   },
   "file_extension": ".py",
   "mimetype": "text/x-python",
   "name": "python",
   "nbconvert_exporter": "python",
   "pygments_lexer": "ipython3",
   "version": "3.11.10"
  }
 },
 "nbformat": 4,
 "nbformat_minor": 5
}
