{
 "cells": [
  {
   "cell_type": "markdown",
   "id": "6844807d",
   "metadata": {},
   "source": [
    "# COMMON TOOLS FOR DATA SCIENCE"
   ]
  },
  {
   "cell_type": "markdown",
   "id": "b36bd3bd",
   "metadata": {},
   "source": [
    "## 读取数据"
   ]
  },
  {
   "cell_type": "code",
   "execution_count": 1,
   "id": "d53b90e5",
   "metadata": {},
   "outputs": [
    {
     "name": "stdout",
     "output_type": "stream",
     "text": [
      "          Label           Deposit   SiO2  TiO2  Al2O3  TFe2O3   MnO   MgO  \\\n",
      "0  Au-rich PCDs  Oyu Tolgoi Cu-Au  65.37  0.60  17.98    5.39  0.12  1.53   \n",
      "1  Au-rich PCDs  Oyu Tolgoi Cu-Au  57.42  0.58  17.77    5.19  0.19  1.48   \n",
      "2  Au-rich PCDs  Oyu Tolgoi Cu-Au  63.10  0.33  16.61    3.78  0.08  0.73   \n",
      "3  Au-rich PCDs  Oyu Tolgoi Cu-Au  65.13  0.31  16.21    3.68  0.10  0.79   \n",
      "4  Au-rich PCDs  Oyu Tolgoi Cu-Au  64.38  0.35  17.36    3.74  0.04  0.82   \n",
      "\n",
      "    CaO  Na2O  ...    Dy    Ho    Er    Tm    Yb    Lu   Hf    Ta    Th     U  \n",
      "0  3.89  4.92  ...  3.35  0.63  1.93  0.27  2.00  0.32  3.0  0.40  2.63  1.54  \n",
      "1  4.52  5.48  ...  3.30  0.70  2.10  0.30  2.10  0.30  3.0  0.50  3.00  1.30  \n",
      "2  1.96  4.91  ...  1.91  0.40  1.26  0.21  1.54  0.28  2.4  0.34  2.81  1.71  \n",
      "3  1.97  4.99  ...  1.90  0.40  1.25  0.20  1.46  0.25  2.5  0.34  2.63  1.32  \n",
      "4  1.60  5.61  ...  2.07  0.43  1.32  0.22  1.59  0.28  2.4  0.30  2.38  1.54  \n",
      "\n",
      "[5 rows x 36 columns]\n",
      "Info: CSV 文件 ../executable/2025-Project-Data(ESM Table 1).csv 读取成功\n"
     ]
    }
   ],
   "source": [
    "from data_preprocessing.loader import load_data\n",
    "\n",
    "df, info = load_data(r'../executable/2025-Project-Data(ESM Table 1).csv')\n",
    "print(df.head())\n",
    "print(f\"Info: {info}\")"
   ]
  },
  {
   "cell_type": "markdown",
   "id": "a8e7d503",
   "metadata": {},
   "source": [
    "## 数据校验"
   ]
  },
  {
   "cell_type": "code",
   "execution_count": 2,
   "id": "13109464",
   "metadata": {},
   "outputs": [
    {
     "name": "stdout",
     "output_type": "stream",
     "text": [
      "Schema valid: True\n",
      "Error location: {}\n",
      "Info: 所有列 dtype 与预期一致\n"
     ]
    }
   ],
   "source": [
    "from data_preprocessing.validator import verify_dtype, handle_missing_values, flag_outliers\n",
    "\n",
    "valid, error_location, info = verify_dtype(df, {\"SiO2\": \"float64\",})\n",
    "\n",
    "print(f\"Schema valid: {valid}\")\n",
    "print(f\"Error location: {error_location}\")\n",
    "print(f\"Info: {info}\")"
   ]
  },
  {
   "cell_type": "markdown",
   "id": "6e432339",
   "metadata": {},
   "source": [
    "## 缺失值处理"
   ]
  },
  {
   "cell_type": "code",
   "execution_count": 3,
   "id": "c299c4d4",
   "metadata": {},
   "outputs": [
    {
     "name": "stdout",
     "output_type": "stream",
     "text": [
      "Missing values handled: Label      0\n",
      "Deposit    0\n",
      "SiO2       0\n",
      "TiO2       0\n",
      "Al2O3      0\n",
      "TFe2O3     0\n",
      "MnO        0\n",
      "MgO        0\n",
      "CaO        0\n",
      "Na2O       0\n",
      "K2O        0\n",
      "P2O5       0\n",
      "Rb         0\n",
      "Sr         0\n",
      "Y          0\n",
      "Zr         0\n",
      "Nb         0\n",
      "Ba         0\n",
      "La         0\n",
      "Ce         0\n",
      "Pr         0\n",
      "Nd         0\n",
      "Sm         0\n",
      "Eu         0\n",
      "Gd         0\n",
      "Tb         0\n",
      "Dy         0\n",
      "Ho         0\n",
      "Er         0\n",
      "Tm         0\n",
      "Yb         0\n",
      "Lu         0\n",
      "Hf         0\n",
      "Ta         0\n",
      "Th         0\n",
      "U          0\n",
      "dtype: int64\n",
      "Info: 缺失值处理完成，使用方法: zero\n"
     ]
    }
   ],
   "source": [
    "from data_preprocessing.validator import handle_missing_values, flag_outliers\n",
    "\n",
    "df_miss, info = handle_missing_values(df, method='zero')\n",
    "\n",
    "print(f\"Missing values handled: {df_miss.isnull().sum()}\")\n",
    "print(f\"Info: {info}\")"
   ]
  },
  {
   "cell_type": "markdown",
   "id": "2900c3a6",
   "metadata": {},
   "source": [
    "## CLR 变换"
   ]
  },
  {
   "cell_type": "code",
   "execution_count": 4,
   "id": "7031cd87",
   "metadata": {},
   "outputs": [
    {
     "name": "stdout",
     "output_type": "stream",
     "text": [
      "CLR transformed data:    clr_SiO2  clr_TiO2  clr_Al2O3  clr_TFe2O3   clr_MnO   clr_MgO   clr_CaO  \\\n",
      "0  0.016901  0.339762   0.111819    0.373189  0.912696  0.045828  0.221817   \n",
      "1 -0.112769  0.305860   0.100071    0.335377  1.372228  0.012602  0.371920   \n",
      "2 -0.018441 -0.258075   0.032564    0.018368  0.507230 -0.694151 -0.463648   \n",
      "3  0.013223 -0.320596   0.008188   -0.008444  0.730374 -0.615162 -0.458559   \n",
      "4  0.001641 -0.199235   0.076728    0.007729 -0.185917 -0.577891 -0.666589   \n",
      "\n",
      "   clr_Na2O   clr_K2O  clr_P2O5  \n",
      "0  0.269416  0.284446  0.413971  \n",
      "1  0.377213  0.284446  0.531754  \n",
      "2  0.267382  0.519657 -0.199133  \n",
      "3  0.283544  0.355354 -0.279176  \n",
      "4  0.400659  0.473137 -0.279176  \n"
     ]
    }
   ],
   "source": [
    "from data_preprocessing.transform import clr_transform\n",
    "\n",
    "df_clr, info = clr_transform(df, [\"SiO2\", \"TiO2\", \"Al2O3\", \"TFe2O3\", \"MnO\", \"MgO\", \"CaO\", \"Na2O\", \"K2O\", \"P2O5\"])\n",
    "print(f\"CLR transformed data: {df_clr.head()}\")"
   ]
  }
 ],
 "metadata": {
  "kernelspec": {
   "display_name": "openmmlab",
   "language": "python",
   "name": "openmmlab"
  },
  "language_info": {
   "codemirror_mode": {
    "name": "ipython",
    "version": 3
   },
   "file_extension": ".py",
   "mimetype": "text/x-python",
   "name": "python",
   "nbconvert_exporter": "python",
   "pygments_lexer": "ipython3",
   "version": "3.11.10"
  }
 },
 "nbformat": 4,
 "nbformat_minor": 5
}
